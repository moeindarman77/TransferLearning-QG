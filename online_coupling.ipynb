{
 "cells": [
  {
   "cell_type": "code",
   "execution_count": 5,
   "metadata": {},
   "outputs": [],
   "source": [
    "import numpy as np\n",
    "from matplotlib import pyplot as plt\n",
    "%matplotlib inline\n",
    "\n",
    "import pyqg\n",
    "from pyqg import diagnostic_tools as tools"
   ]
  },
  {
   "attachments": {},
   "cell_type": "markdown",
   "metadata": {},
   "source": [
    "## Defining Basic simulation parameters"
   ]
  },
  {
   "cell_type": "code",
   "execution_count": 2,
   "metadata": {},
   "outputs": [],
   "source": [
    "year = 24*60*60*360.\n",
    "base_kwargs = dict(dt=3600., tmax=10*year, tavestart=5*year, twrite=25000)\n"
   ]
  },
  {
   "attachments": {},
   "cell_type": "markdown",
   "metadata": {},
   "source": [
    "# High-res model with/without hyperdiffusion"
   ]
  },
  {
   "cell_type": "code",
   "execution_count": null,
   "metadata": {},
   "outputs": [],
   "source": [
    "high_res = pyqg.QGModel(nx=256, **base_kwargs)\n",
    "high_res.run()\n",
    "\n",
    "high_res_nhpd = pyqg.QGModel(nx=256, hyperdiff = False, **base_kwargs)\n",
    "high_res_nhpd.run()"
   ]
  },
  {
   "attachments": {},
   "cell_type": "markdown",
   "metadata": {},
   "source": [
    "## Defining differnet Cases"
   ]
  },
  {
   "cell_type": "code",
   "execution_count": 3,
   "metadata": {},
   "outputs": [],
   "source": [
    "bnn = { \"beta\": 1.5e-11, #[m^-1 s^-1]\n",
    "       \"delta\": 0.25,\n",
    "       \"rek\": 5.78e-7, #[s^-1]\n",
    "       \"rd\": 15e3, # [m]\n",
    "}\n",
    "\n",
    "case1 = { \"beta\": bnn[\"beta\"]*2/3,\n",
    "            \"delta\": bnn[\"delta\"]*2/5,\n",
    "            \"rek\": bnn[\"rek\"]*3/25,\n",
    "            \"rd\": bnn[\"rd\"],\n",
    "}\n",
    "\n",
    "case2 = { \"beta\": bnn[\"beta\"]*3/10,\n",
    "            \"delta\": bnn[\"delta\"]*1/5,\n",
    "            \"rek\": bnn[\"rek\"]*3/50,\n",
    "            \"rd\": bnn[\"rd\"],\n",
    "}\n",
    "\n",
    "case3 = { \"beta\": bnn[\"beta\"],\n",
    "            \"delta\": bnn[\"delta\"],\n",
    "            \"rek\": bnn[\"rek\"],\n",
    "            \"rd\": bnn[\"rd\"]*4/3,\n",
    "}"
   ]
  },
  {
   "attachments": {},
   "cell_type": "markdown",
   "metadata": {},
   "source": [
    "# Setting different cases:\n",
    "### Low-Res / High-Res\n",
    "### Different cases: Jet vs. eddy config\n",
    "### Hyperdiffusion on and off"
   ]
  },
  {
   "cell_type": "code",
   "execution_count": null,
   "metadata": {},
   "outputs": [],
   "source": [
    "year = 24*60*60*360.\n",
    "base_kwargs = dict(dt=3600., tmax=10*year, tavestart=5*year, twrite=10000)\n",
    "\n",
    "bnn_lowres = pyqg.QGModel(nx = 64, **base_kwargs, **bnn)\n",
    "bnn_highres = pyqg.QGModel(nx = 256, **base_kwargs, **bnn)\n",
    "\n",
    "case1_lowres = pyqg.QGModel(nx = 64, **base_kwargs, **case1)\n",
    "case1_highres = pyqg.QGModel(nx = 256, **base_kwargs, **case1)\n",
    "\n",
    "case2_lowres = pyqg.QGModel(nx = 64, **base_kwargs, **case2)\n",
    "case2_highres = pyqg.QGModel(nx = 256, **base_kwargs, **case2)\n",
    "\n",
    "case3_lowres = pyqg.QGModel(nx = 64, **base_kwargs, **case3)\n",
    "case3_highres = pyqg.QGModel(nx = 256, **base_kwargs, **case3)\n",
    "\n",
    "# For turning off hyperdiffusion, set rhyperdiff = False\n",
    "\n",
    "bnn_lowres_nhpd = pyqg.QGModel(nx = 64, hyperdiff = False, **base_kwargs, **bnn)\n",
    "bnn_highres_nhpd = pyqg.QGModel(nx = 256, hyperdiff = False, **base_kwargs, **bnn)\n",
    "\n",
    "case1_lowres_nhpd = pyqg.QGModel(nx = 64, hyperdiff = False, **base_kwargs, **case1)\n",
    "case1_highres_nhpd = pyqg.QGModel(nx = 256, hyperdiff = False, **base_kwargs, **case1)\n",
    "\n",
    "case2_lowres_nhpd = pyqg.QGModel(nx = 64, hyperdiff = False, **base_kwargs, **case2)\n",
    "case2_highres_nhpd = pyqg.QGModel(nx = 256, hyperdiff = False, **base_kwargs, **case2)\n",
    "\n",
    "case3_lowres_nhpd = pyqg.QGModel(nx = 64, hyperdiff = False, **base_kwargs, **case3)\n",
    "case3_highres_nhpd = pyqg.QGModel(nx = 256, hyperdiff = False, **base_kwargs, **case3)"
   ]
  },
  {
   "attachments": {},
   "cell_type": "markdown",
   "metadata": {},
   "source": [
    "#### Choose which model to run:"
   ]
  },
  {
   "cell_type": "code",
   "execution_count": 7,
   "metadata": {},
   "outputs": [
    {
     "name": "stdout",
     "output_type": "stream",
     "text": [
      "Case2 Low-res\n"
     ]
    },
    {
     "name": "stderr",
     "output_type": "stream",
     "text": [
      "INFO: Step: 25000, Time: 9.00e+07, KE: 1.35e-05, CFL: 0.008\n",
      "INFO: Step: 50000, Time: 1.80e+08, KE: 2.63e-04, CFL: 0.060\n",
      "INFO: Step: 75000, Time: 2.70e+08, KE: 1.62e-04, CFL: 0.044\n"
     ]
    },
    {
     "name": "stdout",
     "output_type": "stream",
     "text": [
      "Case2 High-res\n"
     ]
    },
    {
     "name": "stderr",
     "output_type": "stream",
     "text": [
      "INFO: Step: 25000, Time: 9.00e+07, KE: 1.10e-06, CFL: 0.024\n",
      "INFO: Step: 50000, Time: 1.80e+08, KE: 4.59e-04, CFL: 0.311\n"
     ]
    }
   ],
   "source": [
    "# print(\"BNN High-res\")\n",
    "# bnn_lowres.run()\n",
    "# print(\"BNN Low-res\")\n",
    "# bnn_highres.run()\n",
    "\n",
    "# print(\"Case1 Low-res\")\n",
    "# case1_lowres.run()\n",
    "# print(\"Case1 High-res\")\n",
    "# case1_highres.run()\n",
    "\n",
    "print(\"Case2 Low-res\")\n",
    "case2_lowres.run()\n",
    "print(\"Case2 High-res\")\n",
    "case2_highres.run()\n",
    "\n",
    "# print(\"Case3 Low-res\")\n",
    "# case3_lowres.run()\n",
    "# print(\"Case3 High-res\")\n",
    "# case3_highres.run()\n",
    "\n",
    "# Hyperdiffusion off\n",
    "# print(\"BNN High-res\")\n",
    "# bnn_lowres_nhpd.run()\n",
    "# print(\"BNN Low-res\")\n",
    "# bnn_highres_nhpd.run()\n",
    "\n",
    "# print(\"Case1 Low-res\")\n",
    "# case1_lowres_nhpd.run()\n",
    "# print(\"Case1 High-res\")\n",
    "# case1_highres_nhpd.run()\n",
    "\n",
    "# print(\"Case2 Low-res\")\n",
    "# case2_lowres_nhpd.run()\n",
    "# print(\"Case2 High-res\")\n",
    "# case2_highres_nhpd.run()\n",
    "\n",
    "# print(\"Case3 Low-res\")\n",
    "# case3_lowres_nhpd.run()\n",
    "# print(\"Case3 High-res\")\n",
    "# case3_highres_nhpd.run()\n"
   ]
  },
  {
   "attachments": {},
   "cell_type": "markdown",
   "metadata": {},
   "source": [
    "#### Creating dataset out of them:"
   ]
  },
  {
   "cell_type": "code",
   "execution_count": 11,
   "metadata": {},
   "outputs": [],
   "source": [
    "# bnn_lowres_ds = bnn_lowres.to_dataset().isel(time=-1)\n",
    "# bnn_highres_ds = bnn_highres.to_dataset().isel(time=-1)\n",
    "\n",
    "# case1_lowres_ds = case1_lowres.to_dataset().isel(time=-1)\n",
    "# case1_highres_ds = case1_highres.to_dataset().isel(time=-1)\n",
    "\n",
    "case2_lowres_ds = case2_lowres.to_dataset().isel(time=-1)\n",
    "case2_highres_ds = case2_highres.to_dataset().isel(time=-1)\n",
    "\n",
    "# case3_lowres_ds = case3_lowres.to_dataset().isel(time=-1)\n",
    "# case3_highres_ds = case3_highres.to_dataset().isel(time=-1)\n",
    "\n",
    "# Hyper Diffusion Off\n",
    "# bnn_lowres_nhpd_ds = bnn_lowres_nhpd.to_dataset().isel(time=-1)\n",
    "# bnn_highres_nhpd_ds = bnn_highres_nhpd.to_dataset().isel(time=-1)\n",
    "\n",
    "# case1_lowres_nhpd_ds = case1_lowres_nhpd.to_dataset().isel(time=-1)\n",
    "# case1_highres_nhpd_ds = case1_highres_nhpd.to_dataset().isel(time=-1)\n",
    "\n",
    "# case2_lowres_nhpd_ds = case2_lowres_nhpd.to_dataset().isel(time=-1)\n",
    "# case2_highres_nhpd_ds = case2_highres_nhpd.to_dataset().isel(time=-1)\n",
    "\n",
    "# case3_lowres_nhpd_ds = case3_lowres_nhpd.to_dataset().isel(time=-1)\n",
    "# case3_highres_nhpd_ds = case3_highres_nhpd.to_dataset().isel(time=-1)"
   ]
  },
  {
   "attachments": {},
   "cell_type": "markdown",
   "metadata": {},
   "source": [
    "# Testing my CNNparametrization"
   ]
  },
  {
   "cell_type": "code",
   "execution_count": 9,
   "metadata": {},
   "outputs": [],
   "source": [
    "import torch\n",
    "import torch.nn as nn\n",
    "from pyqg import Parameterization\n",
    "\n",
    "class CNNparametrization(Parameterization):\n",
    "    def __init__(self, model_type, model_path):\n",
    "        super().__init__()\n",
    "        self.model = self.init_model(model_type, model_path)\n",
    "\n",
    "    def __call__(self, m):\n",
    "        # Here you will need to transform your model `m` into the appropriate input tensor for the CNN\n",
    "        # As I don't know the exact structure of your model and the expected input for the CNN, \n",
    "        # I'm using a placeholder function `prepare_input(m)`. You will need to implement this function.\n",
    "        input_tensor = self.prepare_input(m) \n",
    "        # Then you can use the evaluate_model function to get the output of the CNN\n",
    "        output = self.evaluate_model(self.model, input_tensor)\n",
    "        return output\n",
    "    \n",
    "    @staticmethod\n",
    "    def prepare_input(m):\n",
    "        # get the model variables 'u' and 'v'\n",
    "        u = m.u\n",
    "        v = m.v\n",
    "        # Ensure that 'u' and 'v' are numpy arrays\n",
    "        if not isinstance(u, np.ndarray):\n",
    "            u = np.array(u)\n",
    "        if not isinstance(v, np.ndarray):\n",
    "            v = np.array(v)\n",
    "        # concatenate 'u' and 'v' across the first axis\n",
    "        combined = np.concatenate((u, v), axis=0)\n",
    "        # Convert the combined array to a torch tensor\n",
    "        input_tensor = torch.from_numpy(combined)\n",
    "        # Ensure the tensor is of the right type\n",
    "        input_tensor = input_tensor.float()\n",
    "        return input_tensor\n",
    "    \n",
    "    @staticmethod\n",
    "    def evaluate_model(model, input_tensor):\n",
    "        # Set device to GPU if available, otherwise use CPU\n",
    "        device = torch.device('cuda' if torch.cuda.is_available() else 'cpu')\n",
    "        # Move the input tensor to the specified device\n",
    "        input_tensor = input_tensor.to(device=device)\n",
    "        \n",
    "        # Normalize the input tensor\n",
    "        training_mean_std = {\n",
    "            \"input_mean_train\": torch.tensor([1.5142133559390217e-14, -2.3737904545663435e-13, 1.2836868070256746e-12, -3.642309706879815e-13]).to(device),\n",
    "            \"input_std_train\": torch.tensor([0.04329422116279602, 0.00804091151803732, 0.043515775352716446, 0.007541385013610125]).to(device),\n",
    "            \"output_mean_train\": torch.tensor([-4.4214735503544034e-23, 2.5631344976210459e-26]).to(device),\n",
    "            \"output_std_train\": torch.tensor([2.8334667511592526e-12, 9.65022603927751e-15]).to(device)\n",
    "        }\n",
    "        \n",
    "        input_tensor = (input_tensor - training_mean_std[\"input_mean_train\"][:, None, None]) / training_mean_std[\"input_std_train\"][:, None, None]\n",
    "        \n",
    "        # Pass the input tensor through the model\n",
    "        output, _ = model(input_tensor)\n",
    "        \n",
    "        # Denormalize the output tensor\n",
    "        output = output * training_mean_std[\"output_std_train\"][:, None, None] + training_mean_std[\"output_mean_train\"][:, None, None]\n",
    "        \n",
    "        # Move the output tensor back to the CPU and numpy\n",
    "        output = output.cpu().detach().numpy()\n",
    "        \n",
    "        # Ensure 'output' is of type float64\n",
    "        output = output.astype(np.float64)\n",
    "\n",
    "        return output\n",
    "\n",
    "    \n",
    "    @staticmethod\n",
    "    def init_model(model_type, model_path):\n",
    "        # Define the ConvNeuralNet classes for each model type\n",
    "        if model_type == 'deep':\n",
    "            class ConvNeuralNet(nn.Module):\n",
    "                \n",
    "                # Determine what layers and their order in CNN object\n",
    "                def __init__(self, num_classes):\n",
    "\n",
    "                        super(ConvNeuralNet, self).__init__()\n",
    "\n",
    "                        # Input Layer\n",
    "                        self.conv_layer1 = nn.Conv2d(in_channels=4, out_channels=64, kernel_size=5, padding=\"same\")\n",
    "                        \n",
    "                        # Hidden layers\n",
    "                        self.conv_layer2 = nn.Conv2d(in_channels=64, out_channels=64, kernel_size=5, padding=\"same\")\n",
    "                        self.conv_layer3 = nn.Conv2d(in_channels=64, out_channels=64, kernel_size=5, padding=\"same\")\n",
    "                        self.conv_layer4 = nn.Conv2d(in_channels=64, out_channels=64, kernel_size=5, padding=\"same\")\n",
    "                        self.conv_layer5 = nn.Conv2d(in_channels=64, out_channels=64, kernel_size=5, padding=\"same\")\n",
    "                        self.conv_layer6 = nn.Conv2d(in_channels=64, out_channels=64, kernel_size=5, padding=\"same\")\n",
    "                        self.conv_layer7 = nn.Conv2d(in_channels=64, out_channels=64, kernel_size=5, padding=\"same\")\n",
    "                        # self.conv_layer8 = nn.Conv2d(in_channels=64, out_channels=64, kernel_size=5, padding=\"same\")\n",
    "                        # self.conv_layer9 = nn.Conv2d(in_channels=64, out_channels=64, kernel_size=5, padding=\"same\")\n",
    "                        # self.conv_layer10 = nn.Conv2d(in_channels=64, out_channels=64, kernel_size=5, padding=\"same\")\n",
    "                        \n",
    "                        # Output layer\n",
    "                        self.conv_layer11 = nn.Conv2d(in_channels=64, out_channels=2, kernel_size=5, padding=\"same\")\n",
    "                        \n",
    "                        # Activation function\n",
    "                        self.relu1 = nn.ReLU()\n",
    "                        \n",
    "                def forward(self, x):\n",
    "\n",
    "                        out1_before = self.conv_layer1(x) # Layer1 (Input Layer)\n",
    "                        out1_after = self.relu1(out1_before) # Layer1 (Input Layer)    \n",
    "                        \n",
    "                        ## Hidden Layers\n",
    "                        out2_before = self.conv_layer2(out1_after) #Layer2\n",
    "                        out2_after = self.relu1(out2_before) #Layer2\n",
    "                    \n",
    "                        out3_before = self.conv_layer3(out2_after) #Layer3\n",
    "                        out3_after = self.relu1(out3_before) #Layer3\n",
    "\n",
    "                        out4_before = self.conv_layer4(out3_after) #Layer4\n",
    "                        out4_after = self.relu1(out4_before) #Layer4\n",
    "\n",
    "                        out5_before = self.conv_layer5(out4_after) #Layer5\n",
    "                        out5_after = self.relu1(out5_before) #Layer5\n",
    "\n",
    "                        out6_before = self.conv_layer6(out5_after) #Layer6\n",
    "                        out6_after = self.relu1(out6_before) #Layer6\n",
    "\n",
    "                        out7_before = self.conv_layer7(out6_after) #Layer7\n",
    "                        out7_after = self.relu1(out7_before) #Layer7\n",
    "\n",
    "                        # out8 = self.relu1(self.conv_layer8(out7)) #Layer8\n",
    "\n",
    "                        # out9 = self.relu1(self.conv_layer9(out8)) #Layer9\n",
    "\n",
    "                        # out10 = self.relu1(self.conv_layer10(out9)) #Layer10\n",
    "                        \n",
    "                        ####  !!! Do not forget to change teh output layer when changing the number of hidden layers !!! ####\n",
    "\n",
    "                        output = self.conv_layer11(out7_after) #Layer11 (Output Layer) \n",
    "                        mid_ouptut = {'out1_before': out1_before, 'out1_after': out1_after, 'out2_before': out2_before, 'out2_after': out2_after, 'out3_before': out3_before, 'out3_after': out3_after, 'out4_before': out4_before, 'out4_after': out4_after, 'out5_before': out5_before, 'out5_after': out5_after, 'out6_before': out6_before, 'out6_after': out6_after, 'out7_before': out7_before, 'out7_after': out7_after}\n",
    "                        return output, mid_ouptut\n",
    "        else:\n",
    "            print('Invalid model type. Please choose from \"deep\" or \"shallow\"')\n",
    "\n",
    "        # Set device to GPU if available, otherwise use CPU\n",
    "        device = torch.device('cuda' if torch.cuda.is_available() else 'cpu')\n",
    "\n",
    "        # Create model instance and move it to the specified device\n",
    "        model = ConvNeuralNet(1).to(device=device)\n",
    "\n",
    "        # Load the checkpoint\n",
    "        checkpoint = torch.load(model_path, map_location=device)\n",
    "\n",
    "        # Extract the model_state_dict from the checkpoint\n",
    "        model_state_dict = checkpoint['model_state_dict']\n",
    "\n",
    "        # Load the state dictionary into the model\n",
    "        model.load_state_dict(model_state_dict)\n",
    "\n",
    "        # Move the model to the specified device\n",
    "        model.to(device)\n",
    "\n",
    "        # Set the model to evaluation mode\n",
    "        model.eval()\n",
    "\n",
    "        return model\n",
    "\n",
    "    @property\n",
    "    def parameterization_type(self):\n",
    "        return \"q_parameterization\""
   ]
  },
  {
   "attachments": {},
   "cell_type": "markdown",
   "metadata": {},
   "source": [
    "## Initialize the CNN parameterization class"
   ]
  },
  {
   "cell_type": "code",
   "execution_count": 10,
   "metadata": {},
   "outputs": [],
   "source": [
    "model_type = \"deep\"\n",
    "model_path = \"BestModelBasedOnTestLoss_1.pt\"\n",
    "\n",
    "# First, create an instance of your CNNparametrization class\n",
    "cnn_parametrization = CNNparametrization(model_type, model_path)"
   ]
  },
  {
   "cell_type": "code",
   "execution_count": 11,
   "metadata": {},
   "outputs": [],
   "source": [
    "def run_parameterized_model(parameterization, case, base_kwargs):\n",
    "    model = pyqg.QGModel(nx=64, parameterization=parameterization, **case , **base_kwargs)\n",
    "    model.run()\n",
    "    return model"
   ]
  },
  {
   "cell_type": "code",
   "execution_count": 12,
   "metadata": {},
   "outputs": [
    {
     "ename": "RuntimeError",
     "evalue": "Undefined plan with nthreads. This is a bug",
     "output_type": "error",
     "traceback": [
      "\u001b[0;31m---------------------------------------------------------------------------\u001b[0m",
      "\u001b[0;31mRuntimeError\u001b[0m                              Traceback (most recent call last)",
      "\u001b[0;31mRuntimeError\u001b[0m: Undefined plan with nthreads. This is a bug"
     ]
    },
    {
     "name": "stderr",
     "output_type": "stream",
     "text": [
      "Exception ignored in: 'pyfftw.pyfftw._fftw_plan_with_nthreads_null'\n",
      "Traceback (most recent call last):\n",
      "  File \"/media/volume/sdc/qg/pyqg/pyqg/pyqg/model.py\", line 217, in __init__\n",
      "    PseudoSpectralKernel.__init__(self, nz, ny, nx, ntd,\n",
      "RuntimeError: Undefined plan with nthreads. This is a bug\n"
     ]
    },
    {
     "ename": "RuntimeError",
     "evalue": "Undefined plan with nthreads. This is a bug",
     "output_type": "error",
     "traceback": [
      "\u001b[0;31m---------------------------------------------------------------------------\u001b[0m",
      "\u001b[0;31mRuntimeError\u001b[0m                              Traceback (most recent call last)",
      "\u001b[0;31mRuntimeError\u001b[0m: Undefined plan with nthreads. This is a bug"
     ]
    },
    {
     "name": "stderr",
     "output_type": "stream",
     "text": [
      "Exception ignored in: 'pyfftw.pyfftw._fftw_plan_with_nthreads_null'\n",
      "Traceback (most recent call last):\n",
      "  File \"/media/volume/sdc/qg/pyqg/pyqg/pyqg/model.py\", line 217, in __init__\n",
      "    PseudoSpectralKernel.__init__(self, nz, ny, nx, ntd,\n",
      "RuntimeError: Undefined plan with nthreads. This is a bug\n"
     ]
    },
    {
     "ename": "RuntimeError",
     "evalue": "Undefined plan with nthreads. This is a bug",
     "output_type": "error",
     "traceback": [
      "\u001b[0;31m---------------------------------------------------------------------------\u001b[0m",
      "\u001b[0;31mRuntimeError\u001b[0m                              Traceback (most recent call last)",
      "\u001b[0;31mRuntimeError\u001b[0m: Undefined plan with nthreads. This is a bug"
     ]
    },
    {
     "name": "stderr",
     "output_type": "stream",
     "text": [
      "Exception ignored in: 'pyfftw.pyfftw._fftw_plan_with_nthreads_null'\n",
      "Traceback (most recent call last):\n",
      "  File \"/media/volume/sdc/qg/pyqg/pyqg/pyqg/model.py\", line 217, in __init__\n",
      "    PseudoSpectralKernel.__init__(self, nz, ny, nx, ntd,\n",
      "RuntimeError: Undefined plan with nthreads. This is a bug\n"
     ]
    },
    {
     "ename": "RuntimeError",
     "evalue": "Undefined plan with nthreads. This is a bug",
     "output_type": "error",
     "traceback": [
      "\u001b[0;31m---------------------------------------------------------------------------\u001b[0m",
      "\u001b[0;31mRuntimeError\u001b[0m                              Traceback (most recent call last)",
      "\u001b[0;31mRuntimeError\u001b[0m: Undefined plan with nthreads. This is a bug"
     ]
    },
    {
     "name": "stderr",
     "output_type": "stream",
     "text": [
      "Exception ignored in: 'pyfftw.pyfftw._fftw_plan_with_nthreads_null'\n",
      "Traceback (most recent call last):\n",
      "  File \"/media/volume/sdc/qg/pyqg/pyqg/pyqg/model.py\", line 217, in __init__\n",
      "    PseudoSpectralKernel.__init__(self, nz, ny, nx, ntd,\n",
      "RuntimeError: Undefined plan with nthreads. This is a bug\n"
     ]
    },
    {
     "ename": "RuntimeError",
     "evalue": "Undefined plan with nthreads. This is a bug",
     "output_type": "error",
     "traceback": [
      "\u001b[0;31m---------------------------------------------------------------------------\u001b[0m",
      "\u001b[0;31mRuntimeError\u001b[0m                              Traceback (most recent call last)",
      "\u001b[0;31mRuntimeError\u001b[0m: Undefined plan with nthreads. This is a bug"
     ]
    },
    {
     "name": "stderr",
     "output_type": "stream",
     "text": [
      "Exception ignored in: 'pyfftw.pyfftw._fftw_plan_with_nthreads_null'\n",
      "Traceback (most recent call last):\n",
      "  File \"/media/volume/sdc/qg/pyqg/pyqg/pyqg/model.py\", line 217, in __init__\n",
      "    PseudoSpectralKernel.__init__(self, nz, ny, nx, ntd,\n",
      "RuntimeError: Undefined plan with nthreads. This is a bug\n"
     ]
    },
    {
     "ename": "RuntimeError",
     "evalue": "Undefined plan with nthreads. This is a bug",
     "output_type": "error",
     "traceback": [
      "\u001b[0;31m---------------------------------------------------------------------------\u001b[0m",
      "\u001b[0;31mRuntimeError\u001b[0m                              Traceback (most recent call last)",
      "\u001b[0;31mRuntimeError\u001b[0m: Undefined plan with nthreads. This is a bug"
     ]
    },
    {
     "name": "stderr",
     "output_type": "stream",
     "text": [
      "Exception ignored in: 'pyfftw.pyfftw._fftw_plan_with_nthreads_null'\n",
      "Traceback (most recent call last):\n",
      "  File \"/media/volume/sdc/qg/pyqg/pyqg/pyqg/model.py\", line 217, in __init__\n",
      "    PseudoSpectralKernel.__init__(self, nz, ny, nx, ntd,\n",
      "RuntimeError: Undefined plan with nthreads. This is a bug\n"
     ]
    },
    {
     "ename": "RuntimeError",
     "evalue": "Undefined plan with nthreads. This is a bug",
     "output_type": "error",
     "traceback": [
      "\u001b[0;31m---------------------------------------------------------------------------\u001b[0m",
      "\u001b[0;31mRuntimeError\u001b[0m                              Traceback (most recent call last)",
      "\u001b[0;31mRuntimeError\u001b[0m: Undefined plan with nthreads. This is a bug"
     ]
    },
    {
     "name": "stderr",
     "output_type": "stream",
     "text": [
      "Exception ignored in: 'pyfftw.pyfftw._fftw_plan_with_nthreads_null'\n",
      "Traceback (most recent call last):\n",
      "  File \"/media/volume/sdc/qg/pyqg/pyqg/pyqg/model.py\", line 217, in __init__\n",
      "    PseudoSpectralKernel.__init__(self, nz, ny, nx, ntd,\n",
      "RuntimeError: Undefined plan with nthreads. This is a bug\n"
     ]
    },
    {
     "ename": "RuntimeError",
     "evalue": "Undefined plan with nthreads. This is a bug",
     "output_type": "error",
     "traceback": [
      "\u001b[0;31m---------------------------------------------------------------------------\u001b[0m",
      "\u001b[0;31mRuntimeError\u001b[0m                              Traceback (most recent call last)",
      "\u001b[0;31mRuntimeError\u001b[0m: Undefined plan with nthreads. This is a bug"
     ]
    },
    {
     "name": "stderr",
     "output_type": "stream",
     "text": [
      "Exception ignored in: 'pyfftw.pyfftw._fftw_plan_with_nthreads_null'\n",
      "Traceback (most recent call last):\n",
      "  File \"/media/volume/sdc/qg/pyqg/pyqg/pyqg/model.py\", line 217, in __init__\n",
      "    PseudoSpectralKernel.__init__(self, nz, ny, nx, ntd,\n",
      "RuntimeError: Undefined plan with nthreads. This is a bug\n"
     ]
    },
    {
     "ename": "RuntimeError",
     "evalue": "Undefined plan with nthreads. This is a bug",
     "output_type": "error",
     "traceback": [
      "\u001b[0;31m---------------------------------------------------------------------------\u001b[0m",
      "\u001b[0;31mRuntimeError\u001b[0m                              Traceback (most recent call last)",
      "\u001b[0;31mRuntimeError\u001b[0m: Undefined plan with nthreads. This is a bug"
     ]
    },
    {
     "name": "stderr",
     "output_type": "stream",
     "text": [
      "Exception ignored in: 'pyfftw.pyfftw._fftw_plan_with_nthreads_null'\n",
      "Traceback (most recent call last):\n",
      "  File \"/media/volume/sdc/qg/pyqg/pyqg/pyqg/model.py\", line 217, in __init__\n",
      "    PseudoSpectralKernel.__init__(self, nz, ny, nx, ntd,\n",
      "RuntimeError: Undefined plan with nthreads. This is a bug\n"
     ]
    },
    {
     "ename": "RuntimeError",
     "evalue": "Undefined plan with nthreads. This is a bug",
     "output_type": "error",
     "traceback": [
      "\u001b[0;31m---------------------------------------------------------------------------\u001b[0m",
      "\u001b[0;31mRuntimeError\u001b[0m                              Traceback (most recent call last)",
      "\u001b[0;31mRuntimeError\u001b[0m: Undefined plan with nthreads. This is a bug"
     ]
    },
    {
     "name": "stderr",
     "output_type": "stream",
     "text": [
      "Exception ignored in: 'pyfftw.pyfftw._fftw_plan_with_nthreads_null'\n",
      "Traceback (most recent call last):\n",
      "  File \"/media/volume/sdc/qg/pyqg/pyqg/pyqg/model.py\", line 217, in __init__\n",
      "    PseudoSpectralKernel.__init__(self, nz, ny, nx, ntd,\n",
      "RuntimeError: Undefined plan with nthreads. This is a bug\n",
      "INFO:  Logger initialized\n",
      "INFO: Step: 25000, Time: 9.00e+07, KE: 1.44e-06, CFL: 0.006\n",
      "INFO: Step: 50000, Time: 1.80e+08, KE: 2.74e-04, CFL: 0.052\n",
      "INFO: Step: 75000, Time: 2.70e+08, KE: 1.36e-04, CFL: 0.044\n"
     ]
    }
   ],
   "source": [
    "smagorinsky_case2 = run_parameterized_model(\n",
    "    pyqg.parameterizations.Smagorinsky(constant=0.08), case2, base_kwargs)"
   ]
  },
  {
   "cell_type": "code",
   "execution_count": 16,
   "metadata": {},
   "outputs": [
    {
     "ename": "RuntimeError",
     "evalue": "Undefined plan with nthreads. This is a bug",
     "output_type": "error",
     "traceback": [
      "\u001b[0;31m---------------------------------------------------------------------------\u001b[0m",
      "\u001b[0;31mRuntimeError\u001b[0m                              Traceback (most recent call last)",
      "\u001b[0;31mRuntimeError\u001b[0m: Undefined plan with nthreads. This is a bug"
     ]
    },
    {
     "name": "stderr",
     "output_type": "stream",
     "text": [
      "Exception ignored in: 'pyfftw.pyfftw._fftw_plan_with_nthreads_null'\n",
      "Traceback (most recent call last):\n",
      "  File \"/media/volume/sdc/qg/pyqg/pyqg/pyqg/model.py\", line 217, in __init__\n",
      "    PseudoSpectralKernel.__init__(self, nz, ny, nx, ntd,\n",
      "RuntimeError: Undefined plan with nthreads. This is a bug\n"
     ]
    },
    {
     "ename": "RuntimeError",
     "evalue": "Undefined plan with nthreads. This is a bug",
     "output_type": "error",
     "traceback": [
      "\u001b[0;31m---------------------------------------------------------------------------\u001b[0m",
      "\u001b[0;31mRuntimeError\u001b[0m                              Traceback (most recent call last)",
      "\u001b[0;31mRuntimeError\u001b[0m: Undefined plan with nthreads. This is a bug"
     ]
    },
    {
     "name": "stderr",
     "output_type": "stream",
     "text": [
      "Exception ignored in: 'pyfftw.pyfftw._fftw_plan_with_nthreads_null'\n",
      "Traceback (most recent call last):\n",
      "  File \"/media/volume/sdc/qg/pyqg/pyqg/pyqg/model.py\", line 217, in __init__\n",
      "    PseudoSpectralKernel.__init__(self, nz, ny, nx, ntd,\n",
      "RuntimeError: Undefined plan with nthreads. This is a bug\n"
     ]
    },
    {
     "ename": "RuntimeError",
     "evalue": "Undefined plan with nthreads. This is a bug",
     "output_type": "error",
     "traceback": [
      "\u001b[0;31m---------------------------------------------------------------------------\u001b[0m",
      "\u001b[0;31mRuntimeError\u001b[0m                              Traceback (most recent call last)",
      "\u001b[0;31mRuntimeError\u001b[0m: Undefined plan with nthreads. This is a bug"
     ]
    },
    {
     "name": "stderr",
     "output_type": "stream",
     "text": [
      "Exception ignored in: 'pyfftw.pyfftw._fftw_plan_with_nthreads_null'\n",
      "Traceback (most recent call last):\n",
      "  File \"/media/volume/sdc/qg/pyqg/pyqg/pyqg/model.py\", line 217, in __init__\n",
      "    PseudoSpectralKernel.__init__(self, nz, ny, nx, ntd,\n",
      "RuntimeError: Undefined plan with nthreads. This is a bug\n"
     ]
    },
    {
     "ename": "RuntimeError",
     "evalue": "Undefined plan with nthreads. This is a bug",
     "output_type": "error",
     "traceback": [
      "\u001b[0;31m---------------------------------------------------------------------------\u001b[0m",
      "\u001b[0;31mRuntimeError\u001b[0m                              Traceback (most recent call last)",
      "\u001b[0;31mRuntimeError\u001b[0m: Undefined plan with nthreads. This is a bug"
     ]
    },
    {
     "name": "stderr",
     "output_type": "stream",
     "text": [
      "Exception ignored in: 'pyfftw.pyfftw._fftw_plan_with_nthreads_null'\n",
      "Traceback (most recent call last):\n",
      "  File \"/media/volume/sdc/qg/pyqg/pyqg/pyqg/model.py\", line 217, in __init__\n",
      "    PseudoSpectralKernel.__init__(self, nz, ny, nx, ntd,\n",
      "RuntimeError: Undefined plan with nthreads. This is a bug\n"
     ]
    },
    {
     "ename": "RuntimeError",
     "evalue": "Undefined plan with nthreads. This is a bug",
     "output_type": "error",
     "traceback": [
      "\u001b[0;31m---------------------------------------------------------------------------\u001b[0m",
      "\u001b[0;31mRuntimeError\u001b[0m                              Traceback (most recent call last)",
      "\u001b[0;31mRuntimeError\u001b[0m: Undefined plan with nthreads. This is a bug"
     ]
    },
    {
     "name": "stderr",
     "output_type": "stream",
     "text": [
      "Exception ignored in: 'pyfftw.pyfftw._fftw_plan_with_nthreads_null'\n",
      "Traceback (most recent call last):\n",
      "  File \"/media/volume/sdc/qg/pyqg/pyqg/pyqg/model.py\", line 217, in __init__\n",
      "    PseudoSpectralKernel.__init__(self, nz, ny, nx, ntd,\n",
      "RuntimeError: Undefined plan with nthreads. This is a bug\n"
     ]
    },
    {
     "ename": "RuntimeError",
     "evalue": "Undefined plan with nthreads. This is a bug",
     "output_type": "error",
     "traceback": [
      "\u001b[0;31m---------------------------------------------------------------------------\u001b[0m",
      "\u001b[0;31mRuntimeError\u001b[0m                              Traceback (most recent call last)",
      "\u001b[0;31mRuntimeError\u001b[0m: Undefined plan with nthreads. This is a bug"
     ]
    },
    {
     "name": "stderr",
     "output_type": "stream",
     "text": [
      "Exception ignored in: 'pyfftw.pyfftw._fftw_plan_with_nthreads_null'\n",
      "Traceback (most recent call last):\n",
      "  File \"/media/volume/sdc/qg/pyqg/pyqg/pyqg/model.py\", line 217, in __init__\n",
      "    PseudoSpectralKernel.__init__(self, nz, ny, nx, ntd,\n",
      "RuntimeError: Undefined plan with nthreads. This is a bug\n"
     ]
    },
    {
     "ename": "RuntimeError",
     "evalue": "Undefined plan with nthreads. This is a bug",
     "output_type": "error",
     "traceback": [
      "\u001b[0;31m---------------------------------------------------------------------------\u001b[0m",
      "\u001b[0;31mRuntimeError\u001b[0m                              Traceback (most recent call last)",
      "\u001b[0;31mRuntimeError\u001b[0m: Undefined plan with nthreads. This is a bug"
     ]
    },
    {
     "name": "stderr",
     "output_type": "stream",
     "text": [
      "Exception ignored in: 'pyfftw.pyfftw._fftw_plan_with_nthreads_null'\n",
      "Traceback (most recent call last):\n",
      "  File \"/media/volume/sdc/qg/pyqg/pyqg/pyqg/model.py\", line 217, in __init__\n",
      "    PseudoSpectralKernel.__init__(self, nz, ny, nx, ntd,\n",
      "RuntimeError: Undefined plan with nthreads. This is a bug\n"
     ]
    },
    {
     "ename": "RuntimeError",
     "evalue": "Undefined plan with nthreads. This is a bug",
     "output_type": "error",
     "traceback": [
      "\u001b[0;31m---------------------------------------------------------------------------\u001b[0m",
      "\u001b[0;31mRuntimeError\u001b[0m                              Traceback (most recent call last)",
      "\u001b[0;31mRuntimeError\u001b[0m: Undefined plan with nthreads. This is a bug"
     ]
    },
    {
     "name": "stderr",
     "output_type": "stream",
     "text": [
      "Exception ignored in: 'pyfftw.pyfftw._fftw_plan_with_nthreads_null'\n",
      "Traceback (most recent call last):\n",
      "  File \"/media/volume/sdc/qg/pyqg/pyqg/pyqg/model.py\", line 217, in __init__\n",
      "    PseudoSpectralKernel.__init__(self, nz, ny, nx, ntd,\n",
      "RuntimeError: Undefined plan with nthreads. This is a bug\n"
     ]
    },
    {
     "ename": "RuntimeError",
     "evalue": "Undefined plan with nthreads. This is a bug",
     "output_type": "error",
     "traceback": [
      "\u001b[0;31m---------------------------------------------------------------------------\u001b[0m",
      "\u001b[0;31mRuntimeError\u001b[0m                              Traceback (most recent call last)",
      "\u001b[0;31mRuntimeError\u001b[0m: Undefined plan with nthreads. This is a bug"
     ]
    },
    {
     "name": "stderr",
     "output_type": "stream",
     "text": [
      "Exception ignored in: 'pyfftw.pyfftw._fftw_plan_with_nthreads_null'\n",
      "Traceback (most recent call last):\n",
      "  File \"/media/volume/sdc/qg/pyqg/pyqg/pyqg/model.py\", line 217, in __init__\n",
      "    PseudoSpectralKernel.__init__(self, nz, ny, nx, ntd,\n",
      "RuntimeError: Undefined plan with nthreads. This is a bug\n",
      "INFO:  Logger initialized\n",
      "INFO: Step: 10000, Time: 7.20e+07, KE: 6.42e-06, CFL: 0.025\n",
      "INFO: Step: 20000, Time: 1.44e+08, KE: 9.10e-05, CFL: 0.070\n",
      "INFO: Step: 30000, Time: 2.16e+08, KE: 1.24e-04, CFL: 0.096\n",
      "INFO: Step: 40000, Time: 2.88e+08, KE: 1.41e-04, CFL: 0.079\n"
     ]
    }
   ],
   "source": [
    "year = 24*60*60*360.\n",
    "# case2_model = pyqg.QGModel(tmax=10*year, twrite=10000, tavestart=5*year, **case2)\n",
    "case2_model_param = pyqg.QGModel(tmax=10*year, twrite=10000, tavestart=5*year, **case2, parameterization=cnn_parametrization)\n",
    "# case2_model.run()\n",
    "case2_model_param.run()"
   ]
  },
  {
   "cell_type": "code",
   "execution_count": 16,
   "metadata": {},
   "outputs": [
    {
     "ename": "RuntimeError",
     "evalue": "Undefined plan with nthreads. This is a bug",
     "output_type": "error",
     "traceback": [
      "\u001b[0;31m---------------------------------------------------------------------------\u001b[0m",
      "\u001b[0;31mRuntimeError\u001b[0m                              Traceback (most recent call last)",
      "\u001b[0;31mRuntimeError\u001b[0m: Undefined plan with nthreads. This is a bug"
     ]
    },
    {
     "name": "stderr",
     "output_type": "stream",
     "text": [
      "Exception ignored in: 'pyfftw.pyfftw._fftw_plan_with_nthreads_null'\n",
      "Traceback (most recent call last):\n",
      "  File \"/media/volume/sdc/qg/pyqg/pyqg/pyqg/model.py\", line 217, in __init__\n",
      "    PseudoSpectralKernel.__init__(self, nz, ny, nx, ntd,\n",
      "RuntimeError: Undefined plan with nthreads. This is a bug\n"
     ]
    },
    {
     "ename": "RuntimeError",
     "evalue": "Undefined plan with nthreads. This is a bug",
     "output_type": "error",
     "traceback": [
      "\u001b[0;31m---------------------------------------------------------------------------\u001b[0m",
      "\u001b[0;31mRuntimeError\u001b[0m                              Traceback (most recent call last)",
      "\u001b[0;31mRuntimeError\u001b[0m: Undefined plan with nthreads. This is a bug"
     ]
    },
    {
     "name": "stderr",
     "output_type": "stream",
     "text": [
      "Exception ignored in: 'pyfftw.pyfftw._fftw_plan_with_nthreads_null'\n",
      "Traceback (most recent call last):\n",
      "  File \"/media/volume/sdc/qg/pyqg/pyqg/pyqg/model.py\", line 217, in __init__\n",
      "    PseudoSpectralKernel.__init__(self, nz, ny, nx, ntd,\n",
      "RuntimeError: Undefined plan with nthreads. This is a bug\n"
     ]
    },
    {
     "ename": "RuntimeError",
     "evalue": "Undefined plan with nthreads. This is a bug",
     "output_type": "error",
     "traceback": [
      "\u001b[0;31m---------------------------------------------------------------------------\u001b[0m",
      "\u001b[0;31mRuntimeError\u001b[0m                              Traceback (most recent call last)",
      "\u001b[0;31mRuntimeError\u001b[0m: Undefined plan with nthreads. This is a bug"
     ]
    },
    {
     "name": "stderr",
     "output_type": "stream",
     "text": [
      "Exception ignored in: 'pyfftw.pyfftw._fftw_plan_with_nthreads_null'\n",
      "Traceback (most recent call last):\n",
      "  File \"/media/volume/sdc/qg/pyqg/pyqg/pyqg/model.py\", line 217, in __init__\n",
      "    PseudoSpectralKernel.__init__(self, nz, ny, nx, ntd,\n",
      "RuntimeError: Undefined plan with nthreads. This is a bug\n"
     ]
    },
    {
     "ename": "RuntimeError",
     "evalue": "Undefined plan with nthreads. This is a bug",
     "output_type": "error",
     "traceback": [
      "\u001b[0;31m---------------------------------------------------------------------------\u001b[0m",
      "\u001b[0;31mRuntimeError\u001b[0m                              Traceback (most recent call last)",
      "\u001b[0;31mRuntimeError\u001b[0m: Undefined plan with nthreads. This is a bug"
     ]
    },
    {
     "name": "stderr",
     "output_type": "stream",
     "text": [
      "Exception ignored in: 'pyfftw.pyfftw._fftw_plan_with_nthreads_null'\n",
      "Traceback (most recent call last):\n",
      "  File \"/media/volume/sdc/qg/pyqg/pyqg/pyqg/model.py\", line 217, in __init__\n",
      "    PseudoSpectralKernel.__init__(self, nz, ny, nx, ntd,\n",
      "RuntimeError: Undefined plan with nthreads. This is a bug\n"
     ]
    },
    {
     "ename": "RuntimeError",
     "evalue": "Undefined plan with nthreads. This is a bug",
     "output_type": "error",
     "traceback": [
      "\u001b[0;31m---------------------------------------------------------------------------\u001b[0m",
      "\u001b[0;31mRuntimeError\u001b[0m                              Traceback (most recent call last)",
      "\u001b[0;31mRuntimeError\u001b[0m: Undefined plan with nthreads. This is a bug"
     ]
    },
    {
     "name": "stderr",
     "output_type": "stream",
     "text": [
      "Exception ignored in: 'pyfftw.pyfftw._fftw_plan_with_nthreads_null'\n",
      "Traceback (most recent call last):\n",
      "  File \"/media/volume/sdc/qg/pyqg/pyqg/pyqg/model.py\", line 217, in __init__\n",
      "    PseudoSpectralKernel.__init__(self, nz, ny, nx, ntd,\n",
      "RuntimeError: Undefined plan with nthreads. This is a bug\n"
     ]
    },
    {
     "ename": "RuntimeError",
     "evalue": "Undefined plan with nthreads. This is a bug",
     "output_type": "error",
     "traceback": [
      "\u001b[0;31m---------------------------------------------------------------------------\u001b[0m",
      "\u001b[0;31mRuntimeError\u001b[0m                              Traceback (most recent call last)",
      "\u001b[0;31mRuntimeError\u001b[0m: Undefined plan with nthreads. This is a bug"
     ]
    },
    {
     "name": "stderr",
     "output_type": "stream",
     "text": [
      "Exception ignored in: 'pyfftw.pyfftw._fftw_plan_with_nthreads_null'\n",
      "Traceback (most recent call last):\n",
      "  File \"/media/volume/sdc/qg/pyqg/pyqg/pyqg/model.py\", line 217, in __init__\n",
      "    PseudoSpectralKernel.__init__(self, nz, ny, nx, ntd,\n",
      "RuntimeError: Undefined plan with nthreads. This is a bug\n"
     ]
    },
    {
     "ename": "RuntimeError",
     "evalue": "Undefined plan with nthreads. This is a bug",
     "output_type": "error",
     "traceback": [
      "\u001b[0;31m---------------------------------------------------------------------------\u001b[0m",
      "\u001b[0;31mRuntimeError\u001b[0m                              Traceback (most recent call last)",
      "\u001b[0;31mRuntimeError\u001b[0m: Undefined plan with nthreads. This is a bug"
     ]
    },
    {
     "name": "stderr",
     "output_type": "stream",
     "text": [
      "Exception ignored in: 'pyfftw.pyfftw._fftw_plan_with_nthreads_null'\n",
      "Traceback (most recent call last):\n",
      "  File \"/media/volume/sdc/qg/pyqg/pyqg/pyqg/model.py\", line 217, in __init__\n",
      "    PseudoSpectralKernel.__init__(self, nz, ny, nx, ntd,\n",
      "RuntimeError: Undefined plan with nthreads. This is a bug\n"
     ]
    },
    {
     "ename": "RuntimeError",
     "evalue": "Undefined plan with nthreads. This is a bug",
     "output_type": "error",
     "traceback": [
      "\u001b[0;31m---------------------------------------------------------------------------\u001b[0m",
      "\u001b[0;31mRuntimeError\u001b[0m                              Traceback (most recent call last)",
      "\u001b[0;31mRuntimeError\u001b[0m: Undefined plan with nthreads. This is a bug"
     ]
    },
    {
     "name": "stderr",
     "output_type": "stream",
     "text": [
      "Exception ignored in: 'pyfftw.pyfftw._fftw_plan_with_nthreads_null'\n",
      "Traceback (most recent call last):\n",
      "  File \"/media/volume/sdc/qg/pyqg/pyqg/pyqg/model.py\", line 217, in __init__\n",
      "    PseudoSpectralKernel.__init__(self, nz, ny, nx, ntd,\n",
      "RuntimeError: Undefined plan with nthreads. This is a bug\n"
     ]
    },
    {
     "ename": "RuntimeError",
     "evalue": "Undefined plan with nthreads. This is a bug",
     "output_type": "error",
     "traceback": [
      "\u001b[0;31m---------------------------------------------------------------------------\u001b[0m",
      "\u001b[0;31mRuntimeError\u001b[0m                              Traceback (most recent call last)",
      "\u001b[0;31mRuntimeError\u001b[0m: Undefined plan with nthreads. This is a bug"
     ]
    },
    {
     "name": "stderr",
     "output_type": "stream",
     "text": [
      "Exception ignored in: 'pyfftw.pyfftw._fftw_plan_with_nthreads_null'\n",
      "Traceback (most recent call last):\n",
      "  File \"/media/volume/sdc/qg/pyqg/pyqg/pyqg/model.py\", line 217, in __init__\n",
      "    PseudoSpectralKernel.__init__(self, nz, ny, nx, ntd,\n",
      "RuntimeError: Undefined plan with nthreads. This is a bug\n",
      "INFO:  Logger initialized\n",
      "INFO: Step: 25000, Time: 9.00e+07, KE: 2.88e-06, CFL: 0.006\n",
      "INFO: Step: 50000, Time: 1.80e+08, KE: 2.79e-04, CFL: 0.051\n",
      "INFO: Step: 75000, Time: 2.70e+08, KE: 1.98e-04, CFL: 0.048\n"
     ]
    }
   ],
   "source": [
    "backscatter_case2 = run_parameterized_model(\n",
    "    pyqg.parameterizations.BackscatterBiharmonic(smag_constant=0.08, back_constant=1.1), case2, base_kwargs)"
   ]
  },
  {
   "cell_type": "code",
   "execution_count": null,
   "metadata": {},
   "outputs": [],
   "source": [
    "def label_for(sim):\n",
    "    return f\"nx={sim.nx}, {sim.parameterization or 'unparameterized'}\"\n",
    "\n",
    "plt.figure(figsize=(15,6))\n",
    "plt.rcParams.update({'font.size': 12})\n",
    "vlim = 2e-5\n",
    "for i, sim in enumerate([case2_highres, case2_lowres, smagorinsky_case2, backscatter_case2]):\n",
    "    plt.subplot(2, 4, i+1, title=label_for(sim).replace(',',\",\\n\").replace('Biharmonic',''))\n",
    "    plt.imshow(sim.q[0], vmin=-vlim, vmax=vlim, cmap='bwr')\n",
    "    plt.xticks([]); plt.yticks([])\n",
    "    if i == 0: plt.ylabel(\"Upper PV\\n[$s^{-1}$]\", rotation=0, va='center', ha='right', fontsize=14)\n",
    "    if i == 3: plt.colorbar()\n",
    "\n",
    "vlim = 2e-2\n",
    "for i, sim in enumerate([case2_highres, case2_lowres, smagorinsky_case2, backscatter_case2]):\n",
    "    plt.subplot(2, 4, i+5)\n",
    "    plt.imshow((sim.u**2 + sim.v**2).sum(0), vmin=0, vmax=vlim, cmap='inferno')\n",
    "    plt.xticks([]); plt.yticks([])\n",
    "    if i == 0: plt.ylabel(\"KE density\\n[$m^2 s^{-2}$]\", rotation=0, va='center', ha='right', fontsize=14)\n",
    "    if i == 3: plt.colorbar()\n",
    "\n",
    "plt.tight_layout()"
   ]
  },
  {
   "cell_type": "code",
   "execution_count": null,
   "metadata": {},
   "outputs": [],
   "source": [
    "case2_ds = case2_model.to_dataset().isel(time=-1)\n",
    "case2_ds_param = case2_model_param.to_dataset().isel(time=-1)"
   ]
  },
  {
   "cell_type": "code",
   "execution_count": null,
   "metadata": {},
   "outputs": [],
   "source": [
    "kr, kespec_upper_case2 = tools.calc_ispec(case2_model, case2_ds.KEspec.isel(lev=0).data)\n",
    "_, kespec_lower_case2 = tools.calc_ispec(case2_model, case2_ds.KEspec.isel(lev=1).data)\n",
    "\n",
    "# param\n",
    "kr_param, kespec_upper_case2_param = tools.calc_ispec(case2_model_param, case2_ds_param.KEspec.isel(lev=0).data)\n",
    "_, kespec_lower_case2_param = tools.calc_ispec(case2_model_param, case2_ds_param.KEspec.isel(lev=1).data)\n",
    "\n"
   ]
  },
  {
   "cell_type": "code",
   "execution_count": null,
   "metadata": {},
   "outputs": [
    {
     "data": {
      "image/png": "[encoded data removed]",
      "text/plain": [
       "<Figure size 1000x600 with 1 Axes>"
      ]
     },
     "metadata": {},
     "output_type": "display_data"
    },
    {
     "data": {
      "image/png": "[encoded data removed]",
      "text/plain": [
       "<Figure size 1000x600 with 1 Axes>"
      ]
     },
     "metadata": {},
     "output_type": "display_data"
    }
   ],
   "source": [
    "# Creating subplots\n",
    "plt.figure(figsize=(10,6))\n",
    "plt.loglog(kr, kespec_upper_case2, 'c.-', label='Case 2')\n",
    "plt.loglog(kr_param, kespec_upper_case2_param, 'r.-', label='Case 2 (Parametrized)')\n",
    "plt.legend(loc='lower left')\n",
    "plt.xlabel(r'k (m$^{-1}$)'); plt.grid()\n",
    "plt.title('Kinetic Energy Spectrum [Upper Layer]]')\n",
    "\n",
    "plt.figure(figsize=(10,6))\n",
    "plt.loglog(kr, kespec_lower_case2, 'c.-', label='Case 2')\n",
    "plt.loglog(kr_param, kespec_lower_case2_param, 'r.-', label='Case 2 (Parametrized)')\n",
    "plt.title('Kinetic Energy Spectrum [Lower Layer]')\n",
    "plt.legend(loc='lower left')\n",
    "plt.xlabel(r'k (m$^{-1}$)'); plt.grid()\n",
    "\n",
    "plt.show()"
   ]
  }
 ],
 "metadata": {
  "kernelspec": {
   "display_name": "torch_gpu",
   "language": "python",
   "name": "python3"
  },
  "language_info": {
   "codemirror_mode": {
    "name": "ipython",
    "version": 3
   },
   "file_extension": ".py",
   "mimetype": "text/x-python",
   "name": "python",
   "nbconvert_exporter": "python",
   "pygments_lexer": "ipython3",
   "version": "3.10.6"
  },
  "orig_nbformat": 4
 },
 "nbformat": 4,
 "nbformat_minor": 2
}
