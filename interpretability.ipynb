{
 "cells": [
  {
   "cell_type": "code",
   "execution_count": 39,
   "metadata": {},
   "outputs": [],
   "source": [
    "# import os\n",
    "# import logging\n",
    "# from netCDF4 import Dataset\n",
    "# from torch.utils.data import Dataset as TorchDataset\n",
    "# import torch\n",
    "# import numpy as np\n",
    "\n",
    "# class NCDataset(TorchDataset):\n",
    "#     \"\"\"\n",
    "#     Dataset for loading NetCDF files.\n",
    "#     \"\"\"\n",
    "#     def __init__(self, input_directory: str, output_directory: str, variable_names: dict, data_fraction: float = 1.0):\n",
    "#         \"\"\"\n",
    "#         :param input_directory: Directory where the input .nc files are stored.\n",
    "#         :param output_directory: Directory where the output .nc files are stored.\n",
    "#         :param variable_names: Dictionary of variable names to load from the .nc files. Should have 'input' and 'output' keys.\n",
    "#         :param data_fraction: Fraction of data files to use (default is 1.0, which means use all files).\n",
    "#         \"\"\"\n",
    "#         self.input_directory = input_directory\n",
    "#         self.output_directory = output_directory\n",
    "#         self.variable_names = variable_names\n",
    "#         self.data_fraction = data_fraction\n",
    "#         self.input_files = self._load_files(input_directory)\n",
    "#         self.output_files = self._load_files(output_directory)\n",
    "\n",
    "#     @staticmethod\n",
    "#     def load_nc_files(directory: str, variable_name: str, file_index: int):\n",
    "#         \"\"\"\n",
    "#         Load data from a .nc file.\n",
    "\n",
    "#         :param directory: Directory where the .nc files are stored.\n",
    "#         :param variable_name: Name of the variable to load from the .nc files.\n",
    "#         :param file_index: Index of the file to load.\n",
    "#         :return: Data loaded from the .nc file, or None if an error occurred.\n",
    "#         \"\"\"\n",
    "#         files = os.listdir(directory)\n",
    "#         files = [f for f in files if f.endswith('.nc')]\n",
    "\n",
    "#         if not files:\n",
    "#             logging.error(\"No .nc files found in the directory.\")\n",
    "#             return None\n",
    "\n",
    "#         files.sort(key=lambda x: int(x.split('.')[0]))\n",
    "\n",
    "#         if file_index < 0 or file_index >= len(files):\n",
    "#             logging.error(\"file_index is out of range.\")\n",
    "#             return None\n",
    "\n",
    "#         file_path = os.path.join(directory, files[file_index])\n",
    "\n",
    "#         try:\n",
    "#             with Dataset(file_path, 'r') as nc_file:\n",
    "#                 if variable_name not in nc_file.variables:\n",
    "#                     logging.error(f\"Variable {variable_name} not found in the file.\")\n",
    "#                     return None\n",
    "\n",
    "#                 data = nc_file.variables[variable_name][:]\n",
    "#         except Exception as e:\n",
    "#             logging.error(f\"Error reading the .nc file: {str(e)}\")\n",
    "#             return None\n",
    "\n",
    "#         return data\n",
    "\n",
    "#     def _load_files(self, directory):\n",
    "#         \"\"\"\n",
    "#         Load the list of .nc files from the directory.\n",
    "\n",
    "#         :return: Sorted list of .nc files in the directory.\n",
    "#         \"\"\"\n",
    "#         files = os.listdir(directory)\n",
    "#         files = [f for f in files if f.endswith('.nc')]\n",
    "#         files.sort(key=lambda x: int(x.split('.')[0]))\n",
    "        \n",
    "#         # Only use a fraction of files if specified\n",
    "#         num_files = int(len(files) * self.data_fraction)\n",
    "#         files = files[:num_files]\n",
    "        \n",
    "#         return files\n",
    "    \n",
    "#     def __len__(self):\n",
    "#         \"\"\"\n",
    "#         Get the number of .nc files in the directory.\n",
    "\n",
    "#         :return: Number of .nc files in the directory.\n",
    "#         \"\"\"\n",
    "#         return len(self.input_files)\n",
    "    \n",
    "#     def __getitem__(self, idx: int):\n",
    "#         inputs = [self.load_nc_files(self.input_directory, var, idx) for var in self.variable_names['input']]\n",
    "#         outputs = [self.load_nc_files(self.output_directory, var, idx) for var in self.variable_names['output']]\n",
    "            \n",
    "#         if any(v is None for v in inputs+outputs):\n",
    "#             return None\n",
    "\n",
    "#         inputs = [torch.from_numpy(data) for data in inputs]\n",
    "#         outputs = [torch.from_numpy(data) for data in outputs]\n",
    "\n",
    "#         inputs = torch.cat(inputs, dim=1)\n",
    "#         outputs = torch.cat(outputs, dim=1)\n",
    "\n",
    "#         if self.input_mean is not None and self.input_std is not None:\n",
    "#             inputs = self.normalize(inputs, self.input_mean, self.input_std)\n",
    "\n",
    "#         if self.output_mean is not None and self.output_std is not None:\n",
    "#             outputs = self.normalize(outputs, self.output_mean, self.output_std)\n",
    "\n",
    "#         return inputs, outputs\n",
    "\n",
    "#     def get_means_and_stds(self, indices=None):\n",
    "#         \"\"\"\n",
    "#         Calculate normalization parameters (mean, std) for the dataset.\n",
    "\n",
    "#         :param indices: List of indices to include in the calculation. If None, use all items.\n",
    "#         \"\"\"\n",
    "#         all_input_data = []\n",
    "#         all_output_data = []\n",
    "\n",
    "#         if indices is None:  # If no specific indices are provided, use all items.\n",
    "#             indices = range(len(self))\n",
    "        \n",
    "#         for idx in indices:\n",
    "#             item = self.__getitem__(idx)\n",
    "#             if item is not None:  # If __getitem__ returned None due to an error, skip this item.\n",
    "#                 inputs, outputs = item\n",
    "#                 all_input_data.append(inputs.numpy())\n",
    "#                 all_output_data.append(outputs.numpy())\n",
    "\n",
    "#         # Stack all data\n",
    "#         all_input_data = np.concatenate(all_input_data, axis=0)\n",
    "#         all_output_data = np.concatenate(all_output_data, axis=0)\n",
    "    \n",
    "#         # Compute mean and std for each channel\n",
    "#         input_mean = np.mean(all_input_data, axis=(0, 2, 3))\n",
    "#         input_std = np.std(all_input_data, axis=(0, 2, 3))\n",
    "\n",
    "#         output_mean = np.mean(all_output_data, axis=(0, 2, 3))\n",
    "#         output_std = np.std(all_output_data, axis=(0, 2, 3))\n",
    "\n",
    "#         return input_mean, input_std, output_mean, output_std\n",
    "\n",
    "#     def normalize(self, inputs, outputs, input_mean, input_std, output_mean, output_std):\n",
    "#         # Normalize inputs\n",
    "#         inputs = (inputs - input_mean[None, :, None, None]) / input_std[None, :, None, None]\n",
    "        \n",
    "#         # Normalize outputs\n",
    "#         outputs = (outputs - output_mean[None, :, None, None]) / output_std[None, :, None, None]\n",
    "        \n",
    "#         return inputs, outputs\n",
    "\n",
    "\n",
    "\n"
   ]
  },
  {
   "cell_type": "code",
   "execution_count": 1,
   "metadata": {},
   "outputs": [
    {
     "name": "stderr",
     "output_type": "stream",
     "text": [
      "/home/exouser/anaconda3/envs/torch_gpu/lib/python3.10/site-packages/tqdm/auto.py:21: TqdmWarning: IProgress not found. Please update jupyter and ipywidgets. See https://ipywidgets.readthedocs.io/en/stable/user_install.html\n",
      "  from .autonotebook import tqdm as notebook_tqdm\n"
     ]
    }
   ],
   "source": [
    "import os\n",
    "import logging\n",
    "from netCDF4 import Dataset\n",
    "from torch.utils.data import Dataset as TorchDataset\n",
    "import torch\n",
    "import numpy as np\n",
    "\n",
    "class NCDataset(TorchDataset):\n",
    "    \"\"\"\n",
    "    Dataset for loading NetCDF files.\n",
    "    \"\"\"\n",
    "\n",
    "    def __init__(self, input_directory: str, output_directory: str, variable_names: dict, data_fraction: float = 1.0):\n",
    "        \"\"\"\n",
    "        :param input_directory: Directory where the input .nc files are stored.\n",
    "        :param output_directory: Directory where the output .nc files are stored.\n",
    "        :param variable_names: Dictionary of variable names to load from the .nc files. Should have 'input' and 'output' keys.\n",
    "        :param data_fraction: Fraction of data files to use (default is 1.0, which means use all files).\n",
    "        \"\"\"\n",
    "        self.input_directory = input_directory\n",
    "        self.output_directory = output_directory\n",
    "        self.variable_names = variable_names\n",
    "        self.data_fraction = data_fraction\n",
    "        self.input_files = self._load_files(input_directory)\n",
    "        self.output_files = self._load_files(output_directory)\n",
    "        self.input_mean = None\n",
    "        self.input_std = None\n",
    "        self.output_mean = None\n",
    "        self.output_std = None\n",
    "\n",
    "    @staticmethod\n",
    "    def load_nc_files(directory: str, variable_name: str, file_index: int):\n",
    "        \"\"\"\n",
    "        Load data from a .nc file.\n",
    "\n",
    "        :param directory: Directory where the .nc files are stored.\n",
    "        :param variable_name: Name of the variable to load from the .nc files.\n",
    "        :param file_index: Index of the file to load.\n",
    "        :return: Data loaded from the .nc file, or None if an error occurred.\n",
    "        \"\"\"\n",
    "        files = os.listdir(directory)\n",
    "        files = [f for f in files if f.endswith('.nc')]\n",
    "\n",
    "        if not files:\n",
    "            logging.error(\"No .nc files found in the directory.\")\n",
    "            return None\n",
    "\n",
    "        files.sort(key=lambda x: int(x.split('.')[0]))\n",
    "\n",
    "        if file_index < 0 or file_index >= len(files):\n",
    "            logging.error(\"file_index is out of range.\")\n",
    "            return None\n",
    "\n",
    "        file_path = os.path.join(directory, files[file_index])\n",
    "\n",
    "        try:\n",
    "            with Dataset(file_path, 'r') as nc_file:\n",
    "                if variable_name not in nc_file.variables:\n",
    "                    logging.error(f\"Variable {variable_name} not found in the file.\")\n",
    "                    return None\n",
    "\n",
    "                data = nc_file.variables[variable_name][:]\n",
    "        except Exception as e:\n",
    "            logging.error(f\"Error reading the .nc file: {str(e)}\")\n",
    "            return None\n",
    "\n",
    "        return data\n",
    "\n",
    "    def _load_files(self, directory):\n",
    "        \"\"\"\n",
    "        Load the list of .nc files from the directory.\n",
    "\n",
    "        :return: Sorted list of .nc files in the directory.\n",
    "        \"\"\"\n",
    "        files = os.listdir(directory)\n",
    "        files = [f for f in files if f.endswith('.nc')]\n",
    "        files.sort(key=lambda x: int(x.split('.')[0]))\n",
    "        \n",
    "        # Only use a fraction of files if specified\n",
    "        num_files = int(len(files) * self.data_fraction)\n",
    "        files = files[:num_files]\n",
    "        \n",
    "        return files\n",
    "\n",
    "    def __len__(self):\n",
    "        return len(self.input_files)\n",
    "\n",
    "    def __getitem__(self, idx: int):\n",
    "        inputs = [self.load_nc_files(self.input_directory, var, idx) for var in self.variable_names['input']]\n",
    "        outputs = [self.load_nc_files(self.output_directory, var, idx) for var in self.variable_names['output']]\n",
    "\n",
    "        if any(v is None for v in inputs+outputs):\n",
    "            return None\n",
    "\n",
    "        inputs = [torch.from_numpy(data) for data in inputs]\n",
    "        outputs = [torch.from_numpy(data) for data in outputs]\n",
    "\n",
    "        inputs = torch.cat(inputs, dim=1)\n",
    "        outputs = torch.cat(outputs, dim=1)\n",
    "\n",
    "        if self.input_mean is not None and self.input_std is not None:\n",
    "            inputs = self.normalize(inputs, self.input_mean, self.input_std)\n",
    "\n",
    "        if self.output_mean is not None and self.output_std is not None:\n",
    "            outputs = self.normalize(outputs, self.output_mean, self.output_std)\n",
    "\n",
    "        return inputs, outputs\n",
    "\n",
    "    def get_means_and_stds(self, indices):\n",
    "        all_input_data = [self.__getitem__(idx)[0] for idx in indices]\n",
    "        all_output_data = [self.__getitem__(idx)[1] for idx in indices]\n",
    "        \n",
    "        input_mean = torch.mean(torch.cat(all_input_data, axis=0), axis=(0, 2, 3))\n",
    "        input_std = torch.std(torch.cat(all_input_data, axis=0), axis=(0, 2, 3))\n",
    "\n",
    "        output_mean = torch.mean(torch.cat(all_output_data, axis=0), axis=(0, 2, 3))\n",
    "        output_std = torch.std(torch.cat(all_output_data, axis=0), axis=(0, 2, 3))\n",
    "\n",
    "        return input_mean, input_std, output_mean, output_std\n",
    "\n",
    "    def normalize(self, data, mean, std):\n",
    "        return (data - mean[None, :, None, None]) / std[None, :, None, None]\n"
   ]
  },
  {
   "cell_type": "code",
   "execution_count": 2,
   "metadata": {},
   "outputs": [],
   "source": [
    "# 1. Create a dataset\n",
    "x_train_path = '/media/volume/sdc/data_qg/3jet/'\n",
    "y_train_path = '/media/volume/sdc/data_qg/3jet/'\n",
    "nc_dataset = NCDataset(x_train_path, y_train_path, {'input': ['u', 'v'], 'output': ['q']}, data_fraction=0.01)\n",
    "\n",
    "# 2. Define the size of each split\n",
    "train_fraction = 0.8  # 80% of the data for training\n",
    "val_fraction = 0.1  # 10% of the data for validation\n",
    "test_fraction = 0.1  # 10% of the data for testing\n",
    "\n",
    "# 3. Calculate the number of samples for each split\n",
    "num_samples = len(nc_dataset)\n",
    "train_end = int(num_samples * train_fraction)\n",
    "val_end = train_end + int(num_samples * val_fraction)\n",
    "\n",
    "# 4. Split the dataset\n",
    "train_dataset = torch.utils.data.Subset(nc_dataset, range(0, train_end))\n",
    "val_dataset = torch.utils.data.Subset(nc_dataset, range(train_end, val_end))\n",
    "test_dataset = torch.utils.data.Subset(nc_dataset, range(val_end, num_samples))\n"
   ]
  },
  {
   "cell_type": "code",
   "execution_count": 6,
   "metadata": {},
   "outputs": [
    {
     "name": "stdout",
     "output_type": "stream",
     "text": [
      "tensor([ 9.0141e-11, -6.8345e-11, -8.7513e-11,  6.4728e-11]) tensor([1., 1., 1., 1.]) tensor([3.6936e-08, 6.3523e-11]) tensor([1.0000, 1.0000])\n",
      "tensor([ 2.0506e-12, -6.8968e-13,  2.9620e-12,  1.3079e-12]) tensor([0.0290, 0.0062, 0.0335, 0.0056]) tensor([5.3936e-07, 2.1702e-17]) tensor([6.7794e-06, 1.2883e-07])\n",
      "tensor([ 3.0132e-11, -8.1542e-11, -3.3954e-11, -5.1433e-12]) tensor([0.9553, 0.9606, 0.9745, 0.9863]) tensor([ 3.1148e-04, -7.8761e-11]) tensor([0.9676, 0.9779])\n"
     ]
    }
   ],
   "source": [
    "input_mean_train, input_std_train, output_mean_train, output_std_train = train_dataset.dataset.get_means_and_stds(indices=train_dataset.indices)\n",
    "\n",
    "# Get the mean std of the training set\n",
    "train_dataset.dataset.input_mean = input_mean_train\n",
    "train_dataset.dataset.input_std = input_std_train\n",
    "train_dataset.dataset.output_mean = output_mean_train\n",
    "train_dataset.dataset.output_std = output_std_train\n",
    "input_mean, input_std, output_mean, output_std = train_dataset.dataset.get_means_and_stds(indices=train_dataset.indices)\n",
    "print(input_mean, input_std, output_mean, output_std)\n",
    "\n",
    "# Get the mean std of the test set\n",
    "test_dataset.dataset.input_mean = None\n",
    "test_dataset.dataset.input_std = None\n",
    "test_dataset.dataset.output_mean = None\n",
    "test_dataset.dataset.output_std = None\n",
    "input_mean, input_std, output_mean, output_std = test_dataset.dataset.get_means_and_stds(indices=test_dataset.indices)\n",
    "print(input_mean, input_std, output_mean, output_std)\n",
    "\n",
    "val_dataset.dataset.input_mean = input_mean_train\n",
    "val_dataset.dataset.input_std = input_std_train\n",
    "val_dataset.dataset.output_mean = output_mean_train\n",
    "val_dataset.dataset.output_std = output_std_train\n",
    "# Get the mean std of the validation set\n",
    "input_mean, input_std, output_mean, output_std = val_dataset.dataset.get_means_and_stds(indices=val_dataset.indices)\n",
    "print(input_mean, input_std, output_mean, output_std)\n",
    "\n",
    "\n"
   ]
  },
  {
   "cell_type": "code",
   "execution_count": 40,
   "metadata": {},
   "outputs": [],
   "source": [
    "# 2.8 Use the dataset with a DataLoader\n",
    "data_loader_train = torch.utils.data.DataLoader(train_dataset, batch_size=1, shuffle=False)\n",
    "data_loader_validation = torch.utils.data.DataLoader(val_dataset, batch_size=1, shuffle=False)\n",
    "data_loader_test = torch.utils.data.DataLoader(test_dataset, batch_size=1, shuffle=False)"
   ]
  },
  {
   "cell_type": "code",
   "execution_count": 41,
   "metadata": {},
   "outputs": [
    {
     "name": "stdout",
     "output_type": "stream",
     "text": [
      "tensor([-9.1768e-11, -2.3444e-10, -5.3340e-10,  8.0119e-10]) tensor([0.7806, 0.7141, 0.8677, 0.8374])\n"
     ]
    }
   ],
   "source": [
    "for i, (inputs, outputs) in enumerate(data_loader_train):\n",
    "    # print(inputs.shape, outputs.shape)\n",
    "    \n",
    "    # print the stats of the first batch\n",
    "    if i == 0:\n",
    "        print(inputs[0].mean(axis= (0, 2, 3)), inputs[0].std(axis= (0, 2, 3)))"
   ]
  },
  {
   "cell_type": "code",
   "execution_count": 42,
   "metadata": {},
   "outputs": [
    {
     "name": "stdout",
     "output_type": "stream",
     "text": [
      "tensor([-1.5845e-12, -1.5407e-13, -4.5264e-12,  1.7764e-15]) tensor([0.0289, 0.0061, 0.0321, 0.0053]) tensor([5.4491e-07, 6.0045e-18]) tensor([6.6005e-06, 1.2427e-07])\n"
     ]
    }
   ],
   "source": [
    "# Get the mean std of the training set\n",
    "train_dataset.dataset.input_mean = None\n",
    "train_dataset.dataset.input_std = None\n",
    "train_dataset.dataset.output_mean = None\n",
    "train_dataset.dataset.output_std = None\n",
    "input_mean, input_std, output_mean, output_std = train_dataset.dataset.get_means_and_stds(indices=train_dataset.indices)\n",
    "print(input_mean, input_std, output_mean, output_std)"
   ]
  },
  {
   "cell_type": "code",
   "execution_count": 43,
   "metadata": {},
   "outputs": [
    {
     "name": "stdout",
     "output_type": "stream",
     "text": [
      "tensor([-6.8034e-12, -1.9528e-12,  2.4201e-11,  2.7919e-12]) tensor([0.0225, 0.0044, 0.0279, 0.0045])\n"
     ]
    }
   ],
   "source": [
    "for i, (inputs, outputs) in enumerate(data_loader_train):\n",
    "    # print(inputs.shape, outputs.shape)\n",
    "    \n",
    "    # print the stats of the first batch\n",
    "    if i == 0:\n",
    "        print(inputs[0].mean(axis= (0, 2, 3)), inputs[0].std(axis= (0, 2, 3)))"
   ]
  },
  {
   "attachments": {},
   "cell_type": "markdown",
   "metadata": {},
   "source": [
    "# Showing 2D activations\n"
   ]
  },
  {
   "attachments": {},
   "cell_type": "markdown",
   "metadata": {},
   "source": [
    "## Utils"
   ]
  },
  {
   "cell_type": "code",
   "execution_count": 2,
   "metadata": {},
   "outputs": [],
   "source": [
    "# Loading pickle file\n",
    "import pickle\n",
    "with open('activation_dict.pkl', 'rb') as f:\n",
    "    loaded_activation = pickle.load(f)\n",
    "\n",
    "def get_activation(activation_dict, layer_name=\"output\", epoch=-1, sample=0, channel=0):\n",
    "    return activation_dict[layer_name][epoch, sample, channel]\n",
    "\n"
   ]
  },
  {
   "attachments": {},
   "cell_type": "markdown",
   "metadata": {},
   "source": [
    "## Plotting fft2 of activations"
   ]
  },
  {
   "cell_type": "code",
   "execution_count": 10,
   "metadata": {},
   "outputs": [
    {
     "name": "stdout",
     "output_type": "stream",
     "text": [
      "(64, 64)\n"
     ]
    },
    {
     "data": {
      "image/png": "[encoded data removed]",
      "text/plain": [
       "<Figure size 1000x500 with 2 Axes>"
      ]
     },
     "metadata": {},
     "output_type": "display_data"
    }
   ],
   "source": [
    "# Plot the fft2 of out1_before\n",
    "out1_before = get_activation(loaded_activation, 'output', epoch=-1, sample=0, channel=0)\n",
    "out1_after = get_activation(loaded_activation, 'out1_after', epoch= -1, sample= 0, channel= 1)\n",
    "\n",
    "print(out1_before.shape)\n",
    "\n",
    "import matplotlib.pyplot as plt\n",
    "import numpy as np\n",
    "\n",
    "out1_before_fft2 = np.abs(np.fft.fftshift(np.fft.fft2(out1_before)))\n",
    "out1_after_fft2 = np.abs(np.fft.fftshift(np.fft.fft2(out1_after)))\n",
    "\n",
    "# Subplot contourf before and after\n",
    "fig, axs = plt.subplots(1, 2, figsize=(10, 5))\n",
    "axs[0].contourf(out1_before_fft2, cmap='jet')\n",
    "axs[0].set_title('out1_before')\n",
    "axs[0].set_xlabel('x')\n",
    "axs[0].set_ylabel('y')\n",
    "\n",
    "axs[1].set_title('out1_after')\n",
    "axs[1].contourf(out1_after_fft2, cmap='jet')\n",
    "axs[1].set_xlabel('x')\n",
    "axs[1].set_ylabel('y')\n",
    "plt.show()\n",
    "\n"
   ]
  },
  {
   "attachments": {},
   "cell_type": "markdown",
   "metadata": {},
   "source": [
    "# Playing with weights"
   ]
  },
  {
   "cell_type": "code",
   "execution_count": 39,
   "metadata": {},
   "outputs": [],
   "source": [
    "# Load weight \n",
    "import pickle\n",
    "\n",
    "def get_kernel(weights, layer_index=0, input_channel_index=0, output_channel_index=0):\n",
    "    return weights[layer_index][output_channel_index, input_channel_index]\n",
    "\n",
    "with open('weights_dict.pkl', 'rb') as f:\n",
    "    loaded_weight = pickle.load(f)\n"
   ]
  },
  {
   "cell_type": "code",
   "execution_count": 33,
   "metadata": {},
   "outputs": [],
   "source": [
    "def initialize_wavenumbers_2DFHIT(nx, ny, Lx, Ly):\n",
    "    '''\n",
    "    Initialize the wavenumbers for 2D Forced Homogeneous Isotropic Turbulence (2D-FHIT).\n",
    "    \n",
    "    Parameters:\n",
    "    -----------\n",
    "    nx : int\n",
    "        Number of grid points in the x-direction.\n",
    "    ny : int\n",
    "        Number of grid points in the y-direction.\n",
    "    Lx : float\n",
    "        Length of the domain in the x-direction.\n",
    "    Ly : float\n",
    "        Length of the domain in the y-direction.\n",
    "\n",
    "    Returns:\n",
    "    --------\n",
    "    Kx : numpy.ndarray\n",
    "        2D array of wavenumbers in the x-direction.\n",
    "    Ky : numpy.ndarray\n",
    "        2D array of wavenumbers in the y-direction.\n",
    "    Ksq : numpy.ndarray\n",
    "        2D array of the square of the wavenumber magnitudes.\n",
    "    '''\n",
    "    kx = 2 * np.pi * np.fft.fftfreq(nx, d=Lx/nx)\n",
    "    ky = 2 * np.pi * np.fft.fftfreq(ny, d=Ly/ny)\n",
    "    (Kx, Ky) = np.meshgrid(kx, ky, indexing='ij')\n",
    "    Ksq = Kx ** 2 + Ky ** 2\n",
    "    return Kx, Ky, Ksq\n"
   ]
  },
  {
   "cell_type": "code",
   "execution_count": 80,
   "metadata": {},
   "outputs": [],
   "source": [
    "\n",
    "# -------------- Geometry and mesh Calculation --------------\n",
    "# Number of grid points in each direction\n",
    "NX = 64\n",
    "\n",
    "# Domain length\n",
    "Lx = 2 * np.pi\n",
    "\n",
    "# Mesh size\n",
    "dx = Lx / NX\n",
    "\n",
    "# Mesh points in x direction\n",
    "x = np.linspace(0, Lx - dx, num=NX)\n",
    "\n",
    "Kx, Ky, Ksq = initialize_wavenumbers_2DFHIT(NX, NX, Lx, Lx)\n"
   ]
  },
  {
   "attachments": {},
   "cell_type": "markdown",
   "metadata": {},
   "source": [
    "# Preparing Kernel for plotting"
   ]
  },
  {
   "cell_type": "code",
   "execution_count": 85,
   "metadata": {},
   "outputs": [
    {
     "data": {
      "image/png": "[encoded data removed]",
      "text/plain": [
       "<Figure size 640x480 with 2 Axes>"
      ]
     },
     "metadata": {},
     "output_type": "display_data"
    }
   ],
   "source": [
    "w = get_kernel(loaded_weight, layer_index=1, input_channel_index=6, output_channel_index=1)\n",
    "\n",
    "# \n",
    "w_fft2 = np.abs(np.fft.fftshift(np.fft.fft2(w, s=[NX, NX])))\n",
    "\n",
    "import matplotlib.pyplot as plt\n",
    "\n",
    "#Plot the fft2 of kernel\n",
    "cont = plt.contourf( w_fft2, cmap='bwr', levels=200) \n",
    "plt.colorbar()\n",
    "plt.show()\n",
    "\n",
    "\n",
    "\n"
   ]
  },
  {
   "attachments": {},
   "cell_type": "markdown",
   "metadata": {},
   "source": [
    "Working on the 2D spectra of output"
   ]
  },
  {
   "cell_type": "code",
   "execution_count": 94,
   "metadata": {},
   "outputs": [
    {
     "name": "stdout",
     "output_type": "stream",
     "text": [
      "dict_keys(['prediction', 'true', 'inputs'])\n",
      "(174, 4, 64, 64)\n",
      "(174, 2, 64, 64)\n",
      "(174, 2, 64, 64)\n"
     ]
    }
   ],
   "source": [
    "# Load .nc file \n",
    "import netCDF4 as nc\n",
    "path = 'output.nc'\n",
    "\n",
    "# Read the file\n",
    "data = nc.Dataset(path, 'r')\n",
    "\n",
    "print(data.variables.keys())\n",
    "\n",
    "print(data['inputs'].shape)\n",
    "print(data['true'].shape)\n",
    "print(data['prediction'].shape)\n",
    "\n",
    "# close the file\n",
    "data.close()"
   ]
  },
  {
   "cell_type": "code",
   "execution_count": null,
   "metadata": {},
   "outputs": [],
   "source": []
  }
 ],
 "metadata": {
  "kernelspec": {
   "display_name": "torch_gpu",
   "language": "python",
   "name": "python3"
  },
  "language_info": {
   "codemirror_mode": {
    "name": "ipython",
    "version": 3
   },
   "file_extension": ".py",
   "mimetype": "text/x-python",
   "name": "python",
   "nbconvert_exporter": "python",
   "pygments_lexer": "ipython3",
   "version": "3.10.6"
  },
  "orig_nbformat": 4
 },
 "nbformat": 4,
 "nbformat_minor": 2
}
