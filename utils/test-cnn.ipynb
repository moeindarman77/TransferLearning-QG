{
 "cells": [
  {
   "attachments": {},
   "cell_type": "markdown",
   "metadata": {},
   "source": [
    "# --------------------------- Importing Libraries ---------------------------"
   ]
  },
  {
   "cell_type": "code",
   "execution_count": 4,
   "metadata": {},
   "outputs": [
    {
     "name": "stdout",
     "output_type": "stream",
     "text": [
      "--------------------------- Importing Libraries ---------------------------\n"
     ]
    }
   ],
   "source": [
    "# --------------------------- Importing Libraries ---------------------------\n",
    "print(\"--------------------------- Importing Libraries ---------------------------\")\n",
    "from ray.air import session\n",
    "from torch.utils.data import Dataset, DataLoader, Subset\n",
    "from scipy.io import savemat\n",
    "from torch.utils.data import DataLoader\n",
    "from utils import *\n",
    "# from utils.utils import MyDataset, corr2, count_parameters\n",
    "from prettytable import PrettyTable\n",
    "import sys\n",
    "import torch\n",
    "import torch.nn as nn\n",
    "import torchvision.transforms as transforms"
   ]
  },
  {
   "attachments": {},
   "cell_type": "markdown",
   "metadata": {},
   "source": [
    "# --------------------------- CNN Architecture ---------------------------"
   ]
  },
  {
   "cell_type": "code",
   "execution_count": 5,
   "metadata": {},
   "outputs": [
    {
     "name": "stdout",
     "output_type": "stream",
     "text": [
      "--------------------------- Setting CNN Architecture ---------------------------\n"
     ]
    }
   ],
   "source": [
    "# --------------------------- CNN Architecture ---------------------------\n",
    "print(\"--------------------------- Setting CNN Architecture ---------------------------\")\n",
    "#Creating a CNN class\n",
    "class ConvNeuralNet(nn.Module):\n",
    "\n",
    "        # Determine what layers and their order in CNN object\n",
    "        def __init__(self, num_classes):\n",
    "\n",
    "                super(ConvNeuralNet, self).__init__()\n",
    "\n",
    "                self.conv_layer1 = nn.Conv2d(in_channels=2, out_channels=64, kernel_size=5, padding=\"same\")\n",
    "                self.conv_layer2 = nn.Conv2d(in_channels=64, out_channels=64, kernel_size=5, padding=\"same\")\n",
    "                self.conv_layer3 = nn.Conv2d(in_channels=64, out_channels=64, kernel_size=5, padding=\"same\")\n",
    "                self.conv_layer4 = nn.Conv2d(in_channels=64, out_channels=64, kernel_size=5, padding=\"same\")\n",
    "                self.conv_layer5 = nn.Conv2d(in_channels=64, out_channels=64, kernel_size=5, padding=\"same\")\n",
    "                self.conv_layer6 = nn.Conv2d(in_channels=64, out_channels=64, kernel_size=5, padding=\"same\")\n",
    "                self.conv_layer7 = nn.Conv2d(in_channels=64, out_channels=64, kernel_size=5, padding=\"same\")\n",
    "                self.conv_layer8 = nn.Conv2d(in_channels=64, out_channels=64, kernel_size=5, padding=\"same\")\n",
    "                self.conv_layer9 = nn.Conv2d(in_channels=64, out_channels=64, kernel_size=5, padding=\"same\")\n",
    "                self.conv_layer10 = nn.Conv2d(in_channels=64, out_channels=64, kernel_size=5, padding=\"same\")\n",
    "                self.conv_layer11 = nn.Conv2d(in_channels=64, out_channels=3, kernel_size=5, padding=\"same\")\n",
    "                self.relu1 = nn.ReLU()\n",
    "\n",
    "        def forward(self, x):\n",
    "\n",
    "                out = self.conv_layer1(x) # Layer1 (Input Layer)\n",
    "                out = self.relu1(out)\n",
    "\n",
    "                ## Hidden Layers\n",
    "                out = self.conv_layer2(out) #Layer2\n",
    "                out = self.relu1(out)\n",
    "\n",
    "                out = self.conv_layer3(out) #Layer3\n",
    "                out = self.relu1(out)\n",
    "\n",
    "                out = self.conv_layer4(out) #Layer4\n",
    "                out = self.relu1(out)\n",
    "\n",
    "                out = self.conv_layer5(out) #Layer5\n",
    "                out = self.relu1(out)\n",
    "\n",
    "                out = self.conv_layer6(out) #Layer6\n",
    "                out = self.relu1(out)\n",
    "\n",
    "                out = self.conv_layer7(out) #Layer7\n",
    "                out = self.relu1(out)\n",
    "\n",
    "                out = self.conv_layer8(out) #Layer8\n",
    "                out = self.relu1(out)\n",
    "\n",
    "                out = self.conv_layer9(out) #Layer9\n",
    "                out = self.relu1(out)\n",
    "\n",
    "                out = self.conv_layer10(out) #Layer10\n",
    "                out = self.relu1(out)\n",
    "\n",
    "                out = self.conv_layer11(out) #Layer11 (Output Layer)\n",
    "                return out"
   ]
  },
  {
   "attachments": {},
   "cell_type": "markdown",
   "metadata": {},
   "source": [
    "# --------------------------- Setting up Hyper-Parmeters for CNN ---------------------------"
   ]
  },
  {
   "cell_type": "code",
   "execution_count": 6,
   "metadata": {},
   "outputs": [
    {
     "name": "stdout",
     "output_type": "stream",
     "text": [
      "--------------------------- Setting up Hyper-Parmeters for CNN ---------------------------\n"
     ]
    }
   ],
   "source": [
    "# --------------------------- Setting up Hyper-Parmeters for CNN ---------------------------\n",
    "print(\"--------------------------- Setting up Hyper-Parmeters for CNN ---------------------------\")\n",
    "#Define relevant parameters for Training\n",
    "config_default = {\n",
    "          \"device\": torch.device('cuda' if torch.cuda.is_available() else 'cpu'), \n",
    "          \"batch_size_train\": 16, \n",
    "          \"learning_rate\": 5e-5,\n",
    "          \"num_classes\": 1,\n",
    "          \"num_epochs\": 10,\n",
    "          \"p_data\":2000, # Number of data to be trained \n",
    "         }\n",
    "config = config_default"
   ]
  },
  {
   "attachments": {},
   "cell_type": "markdown",
   "metadata": {},
   "source": [
    "# --------------------------- Initialization ---------------------------"
   ]
  },
  {
   "cell_type": "code",
   "execution_count": 7,
   "metadata": {},
   "outputs": [
    {
     "name": "stdout",
     "output_type": "stream",
     "text": [
      "--------------------------- Training Initialization ---------------------------\n",
      "**** Number of Trainable Parameters in BNN ****\n",
      "+---------------------+------------+\n",
      "|       Modules       | Parameters |\n",
      "+---------------------+------------+\n",
      "|  conv_layer1.weight |    3200    |\n",
      "|   conv_layer1.bias  |     64     |\n",
      "|  conv_layer2.weight |   102400   |\n",
      "|   conv_layer2.bias  |     64     |\n",
      "|  conv_layer3.weight |   102400   |\n",
      "|   conv_layer3.bias  |     64     |\n",
      "|  conv_layer4.weight |   102400   |\n",
      "|   conv_layer4.bias  |     64     |\n",
      "|  conv_layer5.weight |   102400   |\n",
      "|   conv_layer5.bias  |     64     |\n",
      "|  conv_layer6.weight |   102400   |\n",
      "|   conv_layer6.bias  |     64     |\n",
      "|  conv_layer7.weight |   102400   |\n",
      "|   conv_layer7.bias  |     64     |\n",
      "|  conv_layer8.weight |   102400   |\n",
      "|   conv_layer8.bias  |     64     |\n",
      "|  conv_layer9.weight |   102400   |\n",
      "|   conv_layer9.bias  |     64     |\n",
      "| conv_layer10.weight |   102400   |\n",
      "|  conv_layer10.bias  |     64     |\n",
      "| conv_layer11.weight |    4800    |\n",
      "|  conv_layer11.bias  |     3      |\n",
      "+---------------------+------------+\n",
      "Total Trainable Params: 930,243\n"
     ]
    }
   ],
   "source": [
    "# --------------------------- Initialization ---------------------------\n",
    "print(\"--------------------------- Training Initialization ---------------------------\")\n",
    "\n",
    "# 0. Model Initialization\n",
    "model = ConvNeuralNet(config[\"num_classes\"]).to(config[\"device\"])\n",
    "\n",
    "print('**** Number of Trainable Parameters in BNN ****')\n",
    "count_parameters(model)\n",
    "\n",
    "# 0.1. Set loss funtion with criterion\n",
    "criterion = nn.MSELoss()\n",
    "\n",
    "# 0.2 Set the optimizer (Adam)\n",
    "optimizer = torch.optim.Adam(model.parameters(), lr= config['learning_rate'], betas=(0.9, 0.999), eps=1e-08, weight_decay=0, amsgrad = True)"
   ]
  },
  {
   "attachments": {},
   "cell_type": "markdown",
   "metadata": {},
   "source": [
    "# --------------------------- Loading DATA ---------------------------"
   ]
  },
  {
   "cell_type": "code",
   "execution_count": 8,
   "metadata": {},
   "outputs": [
    {
     "name": "stdout",
     "output_type": "stream",
     "text": [
      "--------------------------- Loading DATA ---------------------------\n"
     ]
    }
   ],
   "source": [
    "# --------------------------- Loading DATA ---------------------------\n",
    "print(\"--------------------------- Loading DATA ---------------------------\")\n",
    "\n",
    "# 1. Loading the base model (Optional)[For Transfer Learning purpose]\n",
    "'''    \n",
    "print(\"---Loading Base model---\")\n",
    "base_model_path = '/home/exouser/tl/10layer/base_model.pt' # PATH\n",
    "base_model = torch.load(base_model_path) # Loading Model\n",
    "model.load_state_dict(base_model['model_state_dict']) # Loading model State_dict\n",
    "#optimizer.load_state_dict(base_model['optimizer_state_dict']) # Optimizer Loading\n",
    "'''\n",
    "\n",
    "# 2. Loading Data\n",
    "# 2.1 Loading training data set\n",
    "x_train_path = '/media/volume/sdc/exouser/data_cgft/2D_FHIT/Re20kNX1024nx4ny0r0p1/gaussian/train/NX128/UV.mat'\n",
    "y_train_path = '/media/volume/sdc/exouser/data_cgft/2D_FHIT/Re20kNX1024nx4ny0r0p1/gaussian/train/NX128/S.mat'\n",
    "\n",
    "dataset_train = MyDataset([x_train_path, y_train_path], normalize_input=True, normalize_output=True)\n",
    "\n",
    "# Splitting the data\n",
    "indices_train = list(range(0,config['p_data']))\n",
    "subset_train = Subset(dataset_train, indices_train)\n",
    "data_loader_train = DataLoader(subset_train, batch_size=config['batch_size_train'], shuffle=True)\n",
    "\n",
    "# Getting Normalization coefficient from training samples\n",
    "(input_mean,input_std), (output_mean, output_std) = dataset_train.get_normalization_coef()\n",
    "\n",
    "# print(input_mean)\n",
    "# print(input_std)\n",
    "# print(output_mean)\n",
    "# print(output_std)\n",
    "\n",
    "#Chunck the data\n",
    "#indices_train = list(range(0,config['p_data']))\n",
    "#subset_train = Subset(dataset_train, indices_train)\n",
    "#data_loader_train = DataLoader(subset_train, batch_size=config['batch_size_train'], shuffle=True)\n",
    "\n",
    "#indices_train = list(range(0,1800))\n",
    "#indices_test = list(range(1800,2000))\n",
    "#subset_train = Subset(dataset_train, indices_train)\n",
    "#subset_test = Subset(dataset_train, indices_test)\n",
    "\n",
    "#data_loader_test = DataLoader(dataset_test, batch_size=1000, shuffle=False)\n",
    "\n",
    "#dataset_test = MyDataset([x_test_path, y_test_path], transform=data_transform, target_transform=data_transform)\n",
    "#data_loader_test = DataLoader(dataset_test, batch_size=32, shuffle=True)\n",
    "# Load test data\n",
    "x_test_path = '/media/volume/sdc/exouser/data_cgft/2D_FHIT/Re20kNX1024nx4ny0r0p1/gaussian/test1/NX128/UV.mat'\n",
    "y_test_path = '/media/volume/sdc/exouser/data_cgft/2D_FHIT/Re20kNX1024nx4ny0r0p1/gaussian/test1/NX128/S.mat'\n",
    "dataset_test = MyDataset([x_test_path, y_test_path], normalize_input=True, normalize_output=True)\n",
    "data_loader_test = DataLoader(dataset_test, batch_size=16, shuffle=True) # I set shuffle to be false for inference"
   ]
  },
  {
   "attachments": {},
   "cell_type": "markdown",
   "metadata": {},
   "source": [
    "# --------------------------- Training Part ---------------------------"
   ]
  },
  {
   "cell_type": "code",
   "execution_count": 9,
   "metadata": {},
   "outputs": [
    {
     "name": "stdout",
     "output_type": "stream",
     "text": [
      "--------------------------- Training Part ---------------------------\n"
     ]
    }
   ],
   "source": [
    "# --------------------------- Training Part ---------------------------\n",
    "loss_epoch = []\n",
    "loss_test_epoch = []\n",
    "cc_epoch = []\n",
    "weights = []\n",
    "print(\"--------------------------- Training Part ---------------------------\")"
   ]
  },
  {
   "cell_type": "code",
   "execution_count": 10,
   "metadata": {},
   "outputs": [
    {
     "ename": "NameError",
     "evalue": "name 'cc' is not defined",
     "output_type": "error",
     "traceback": [
      "\u001b[0;31m---------------------------------------------------------------------------\u001b[0m",
      "\u001b[0;31mNameError\u001b[0m                                 Traceback (most recent call last)",
      "Cell \u001b[0;32mIn[10], line 62\u001b[0m\n\u001b[1;32m     60\u001b[0m     loss_epoch\u001b[39m.\u001b[39mappend(loss\u001b[39m.\u001b[39mitem())\n\u001b[1;32m     61\u001b[0m     loss_test_epoch\u001b[39m.\u001b[39mappend(loss_test\u001b[39m.\u001b[39mitem())\n\u001b[0;32m---> 62\u001b[0m     cc_epoch\u001b[39m.\u001b[39mappend(cc)\n\u001b[1;32m     63\u001b[0m     \u001b[39mprint\u001b[39m(\u001b[39mf\u001b[39m\u001b[39m\"\u001b[39m\u001b[39mEpoch[\u001b[39m\u001b[39m{\u001b[39;00mepoch\u001b[39m+\u001b[39m\u001b[39m1\u001b[39m\u001b[39m}\u001b[39;00m\u001b[39m/\u001b[39m\u001b[39m{\u001b[39;00mconfig[\u001b[39m'\u001b[39m\u001b[39mnum_epochs\u001b[39m\u001b[39m'\u001b[39m]\u001b[39m}\u001b[39;00m\u001b[39m] TrainingLoss:\u001b[39m\u001b[39m{\u001b[39;00mloss\u001b[39m.\u001b[39mitem()\u001b[39m:\u001b[39;00m\u001b[39m10.3e\u001b[39m\u001b[39m}\u001b[39;00m\u001b[39m TestLoss:\u001b[39m\u001b[39m{\u001b[39;00mloss_test\u001b[39m.\u001b[39mitem()\u001b[39m:\u001b[39;00m\u001b[39m10.3e\u001b[39m\u001b[39m}\u001b[39;00m\u001b[39m CCTau11: \u001b[39m\u001b[39m{\u001b[39;00mccs_test[\u001b[39m'\u001b[39m\u001b[39mCCTau11\u001b[39m\u001b[39m'\u001b[39m][\u001b[39m0\u001b[39m]\u001b[39m:\u001b[39;00m\u001b[39m.4f\u001b[39m\u001b[39m}\u001b[39;00m\u001b[39m CCTau12: \u001b[39m\u001b[39m{\u001b[39;00mccs_test[\u001b[39m'\u001b[39m\u001b[39mCCTau12\u001b[39m\u001b[39m'\u001b[39m][\u001b[39m0\u001b[39m]\u001b[39m:\u001b[39;00m\u001b[39m.4f\u001b[39m\u001b[39m}\u001b[39;00m\u001b[39m CCTau22: \u001b[39m\u001b[39m{\u001b[39;00mccs_test[\u001b[39m'\u001b[39m\u001b[39mCCTau22\u001b[39m\u001b[39m'\u001b[39m][\u001b[39m0\u001b[39m]\u001b[39m:\u001b[39;00m\u001b[39m.4f\u001b[39m\u001b[39m}\u001b[39;00m\u001b[39m CCPTau: \u001b[39m\u001b[39m{\u001b[39;00mccs_test[\u001b[39m'\u001b[39m\u001b[39mCCPTau\u001b[39m\u001b[39m'\u001b[39m][\u001b[39m0\u001b[39m]\u001b[39m:\u001b[39;00m\u001b[39m.4f\u001b[39m\u001b[39m}\u001b[39;00m\u001b[39m\\t\u001b[39;00m\u001b[39mCCPTauPos: \u001b[39m\u001b[39m{\u001b[39;00mccs_test[\u001b[39m'\u001b[39m\u001b[39mCCPTauPos\u001b[39m\u001b[39m'\u001b[39m][\u001b[39m0\u001b[39m]\u001b[39m:\u001b[39;00m\u001b[39m.4f\u001b[39m\u001b[39m}\u001b[39;00m\u001b[39m CCPTauNeg: \u001b[39m\u001b[39m{\u001b[39;00mccs_test[\u001b[39m'\u001b[39m\u001b[39mCCPTauNeg\u001b[39m\u001b[39m'\u001b[39m][\u001b[39m0\u001b[39m]\u001b[39m:\u001b[39;00m\u001b[39m.4f\u001b[39m\u001b[39m}\u001b[39;00m\u001b[39m\"\u001b[39m)\n\u001b[1;32m     64\u001b[0m     \u001b[39m# print(f\"{epoch+1:6d}\\t{config['num_epochs']:6d}\\t\\t{loss.item():10.3e}\\t{loss_test.item():10.3e}\\t{cc[0]:6.4f}\\t{cc[0]:6.4f}\\t{cc[0]:6.4f}\")\u001b[39;00m\n\u001b[1;32m     65\u001b[0m     \u001b[39m# table.add_row([epoch+1, config['num_epochs'], f\"{loss.item():10.3e}\", f\"{loss_test.item():10.3e}\", f\"{cc[0]:6.4f}\", f\"{cc[1]:6.4f}\", f\"{cc[2]:6.4f}\"])\u001b[39;00m\n\u001b[1;32m     66\u001b[0m     \n\u001b[1;32m     67\u001b[0m \u001b[39m# End of Epoch \u001b[39;00m\n\u001b[1;32m     68\u001b[0m \u001b[39m# print(table)\u001b[39;00m\n",
      "\u001b[0;31mNameError\u001b[0m: name 'cc' is not defined"
     ]
    }
   ],
   "source": [
    "config['num_epochs'] = 1\n",
    "# 3. Training Loop\n",
    "table = PrettyTable(['Epoch', 'Total Epoch', 'Training Loss', 'Test Loss', 'CC_tau11', 'CC_tau12', 'CC_tau22'])\n",
    "table.align = 'r'\n",
    "# print('Epoch  TotalEpoch    Training Loss   Test Loss   CC_tau11    CC_tau12    CC_tau22 \\n ---------------------------------------------------------------------------------')\n",
    "for epoch in range(config['num_epochs']):\n",
    "\n",
    "    # Training Data Loop\n",
    "    for data_train in data_loader_train:\n",
    "\n",
    "        # Get batch of data\n",
    "        inputs_train, labels_train = data_train\n",
    "        \n",
    "        # Move tensors to the configured device with right data type\n",
    "        inputs_train = inputs_train.to(device=config['device'], dtype = torch.float32)\n",
    "        labels_train = labels_train.to(device=config['device'], dtype = torch.float32)\n",
    "\n",
    "        # Forward pass train \n",
    "        model_output = model(inputs_train)\n",
    "        loss = criterion(model_output, labels_train)\n",
    "        \n",
    "        # Backward and optimize\n",
    "        optimizer.zero_grad()\n",
    "        loss.backward()\n",
    "        optimizer.step()\n",
    "    \n",
    "    #Test Data Loop\n",
    "    for data_test in data_loader_test:\n",
    "        \n",
    "        #Get batch of data\n",
    "        inputs_test, labels_test = data_test\n",
    "        \n",
    "        # Move tensors to the configured device\n",
    "        inputs_test = inputs_test.to(device=config['device'], dtype = torch.float32)\n",
    "        labels_test = labels_test.to(device=config['device'], dtype = torch.float32)\n",
    "\n",
    "        # Evaluating test loss\n",
    "        model_output_test = model(inputs_test)\n",
    "        loss_test = criterion(model_output_test, labels_test)\n",
    "        \n",
    "    ccs_test = post_proccess(inputs_test[:,0].cpu().detach(), inputs_test[:,1].cpu().detach(), labels_test[:,0].cpu().detach(), labels_test[:,1].cpu().detach(), labels_test[:,2].cpu().detach(), model_output_test[:,0].cpu().detach(), model_output_test[:,1].cpu().detach(), model_output_test[:,2].cpu().detach())\n",
    "        \n",
    "\n",
    "    # Saving Model Checkpoint\n",
    "    if (epoch + 1 ) % 100 == 0:\n",
    "        \n",
    "        # Save the model checkpoint XXXX\n",
    "        modelname = \"checkpoint_epoch\" + str(epoch+1) + \".pt\"\n",
    "        torch.save({\n",
    "                    'model_state_dict': model.state_dict(),\n",
    "                    'epoch' : epoch,\n",
    "                    'optimizer_state_dict' : optimizer.state_dict(),\n",
    "                    'loss' : loss,\n",
    "                    'loss_test' : loss_test,\n",
    "                    },modelname)\n",
    "        print(\"Checkpoint {} has been saved!\".format(epoch+1))\n",
    "        \n",
    "\n",
    "    # Storing Loss, loss_test, cc histroy\n",
    "    loss_epoch.append(loss.item())\n",
    "    loss_test_epoch.append(loss_test.item())\n",
    "    cc_epoch.append(cc)\n",
    "    print(f\"Epoch[{epoch+1}/{config['num_epochs']}] TrainingLoss:{loss.item():10.3e} TestLoss:{loss_test.item():10.3e} CCTau11: {ccs_test['CCTau11'][0]:.4f} CCTau12: {ccs_test['CCTau12'][0]:.4f} CCTau22: {ccs_test['CCTau22'][0]:.4f} CCPTau: {ccs_test['CCPTau'][0]:.4f}\\tCCPTauPos: {ccs_test['CCPTauPos'][0]:.4f} CCPTauNeg: {ccs_test['CCPTauNeg'][0]:.4f}\")\n",
    "    # print(f\"{epoch+1:6d}\\t{config['num_epochs']:6d}\\t\\t{loss.item():10.3e}\\t{loss_test.item():10.3e}\\t{cc[0]:6.4f}\\t{cc[0]:6.4f}\\t{cc[0]:6.4f}\")\n",
    "    # table.add_row([epoch+1, config['num_epochs'], f\"{loss.item():10.3e}\", f\"{loss_test.item():10.3e}\", f\"{cc[0]:6.4f}\", f\"{cc[1]:6.4f}\", f\"{cc[2]:6.4f}\"])\n",
    "    \n",
    "# End of Epoch \n",
    "# print(table)"
   ]
  },
  {
   "cell_type": "code",
   "execution_count": 15,
   "metadata": {},
   "outputs": [
    {
     "name": "stdout",
     "output_type": "stream",
     "text": [
      "Trained model has been saved successfully!\n"
     ]
    }
   ],
   "source": [
    "# Saving weights for the training\n",
    "for i in range(11):\n",
    "    layer_name = \"conv_layer\" + str(i+1)\n",
    "    weights.append(getattr(model,layer_name).weight.data.cpu().numpy())\n",
    "\n",
    "# Save final model\n",
    "modelname = \"model.pt\"\n",
    "torch.save({\n",
    "            'model_state_dict': model.state_dict(),\n",
    "            'epoch' : epoch,\n",
    "            'optimizer_state_dict' : optimizer.state_dict(),\n",
    "            'loss' : loss,\n",
    "            'loss_test' : loss_test,\n",
    "            },modelname)\n",
    "\n",
    "print('Trained model has been saved successfully!')"
   ]
  },
  {
   "cell_type": "code",
   "execution_count": null,
   "metadata": {},
   "outputs": [],
   "source": [
    "# --------------------------- Inference Part ---------------------------\n",
    "    print(\"--------------------------- Inference Part ---------------------------\")\n",
    "\n",
    "    '''\n",
    "    # This is just for the evaluation (Optional)\n",
    "    base_model_path = 'model.pt' # PATH\n",
    "    base_model = torch.load(base_model_path) # Loading Model\n",
    "    model.load_state_dict(base_model['model_state_dict']) # Loading model State_dict\n",
    "    #optimizer.load_state_dict(base_model['optimizer_state_dict']) # Optimizer Loading\n",
    "    ## Free up memory\n",
    "    #del inputs_train, labels_train\n",
    "    #torch.cuda.empty_cache()\n",
    "    '''\n",
    "    data_loader_test = DataLoader(dataset_test, batch_size=16, shuffle=False)\n",
    "    \n",
    "    # Initialzing the inference Initializng the\n",
    "    prediction = torch.tensor([], dtype = torch.float32)\n",
    "    true = torch.tensor([], dtype = torch.float32)\n",
    "    inputs = torch.tensor([], dtype = torch.float32)\n",
    "    '''\n",
    "    if len(input_mean) > 0 and len(input_std) > 0:\n",
    "        denormalize_input = transforms.Normalize(\n",
    "        mean=[-m/s for m, s in zip(input_mean, input_std)],\n",
    "        std=[1/s for s in input_std]\n",
    "        )\n",
    "    else:\n",
    "    # handle the case where input_mean or input_std has length 0\n",
    "    # e.g., by setting denormalize_input to None or a default value\n",
    "        denormalize_input = transforms.Normalize(\n",
    "        mean=-input_mean/input_std,\n",
    "        std=1/input_std\n",
    "    )\n",
    "    print(output_mean.type)\n",
    "    if isinstance(output_mean, (list, tuple, np.ndarray)) and isinstance(output_std, (list, tuple, np.ndarray)):\n",
    "        denormalize_output = transforms.Normalize(\n",
    "            mean=[-m/s for m, s in zip(output_mean, output_std)],\n",
    "            std=[1/s for s in output_std]\n",
    "        )\n",
    "    else:\n",
    "        denormalize_output = transforms.Normalize(\n",
    "            mean=-output_mean/output_std,\n",
    "            std=1/output_std\n",
    "        )\n",
    "    '''\n",
    "\n",
    "\n",
    "    denormalize_input = transforms.Normalize(mean=[-m/s for m, s in zip(input_mean, input_std)], std=[1/s for s in input_std])\n",
    "    denormalize_output = transforms.Normalize(mean=[-m/s for m, s in zip(output_mean, output_std)], std=[1/s for s in output_std])\n",
    "\n",
    "    #denormalize_output = transforms.Normalize(mean=[-m/s for m, s in zip(output_mean.tolist(), output_std.tolist())], std=[1/s for s in output_std.tolist()])\n",
    "    #denormalize_output = transforms.Normalize(mean=[-output_mean/output_std], std=[1/output_std])"
   ]
  },
  {
   "cell_type": "code",
   "execution_count": null,
   "metadata": {},
   "outputs": [],
   "source": [
    "# Test Loop\n",
    "for data_test in data_loader_test:\n",
    "\n",
    "    # Get batches of test data set\n",
    "    inputs_test, label_test = data_test\n",
    "    # Move tensors to the configured device\n",
    "    inputs_test = inputs_test.to(device=config['device'], dtype = torch.float32)\n",
    "\n",
    "    # Evaluating test loss\n",
    "    model_output_test = model(inputs_test)\n",
    "\n",
    "    # Denormalizing Test data [input and output]\n",
    "    inputs_test_normalized = denormalize_input(inputs_test)\n",
    "    label_test_normalized = denormalize_output(label_test)\n",
    "    model_output_test_normalized = denormalize_output(model_output_test) \n",
    "\n",
    "    # Detach from GPU \n",
    "    model_output_test_normalized = model_output_test_normalized.detach().cpu()\n",
    "    inputs_test_normalized = inputs_test_normalized.detach().cpu()\n",
    "\n",
    "    # Store \n",
    "    inputs = torch.cat([inputs, inputs_test_normalized])\n",
    "    prediction = torch.cat([prediction, model_output_test_normalized])\n",
    "    true = torch.cat([true, label_test_normalized])"
   ]
  },
  {
   "cell_type": "code",
   "execution_count": null,
   "metadata": {},
   "outputs": [],
   "source": [
    "# --------------------------- Saving the outputs  --------------------------- \n",
    "    print(\"--------------------------- Saving the outputs ---------------------------\")\n",
    "    \n",
    "    ccs = post_proccess(inputs[:,0], inputs[:,1], true[:,0], true[:,1], true[:,2], prediction[:,0], prediction[:,1], prediction[:,2])\n",
    "\n",
    "    ## Saving the output data\n",
    "    output = {\n",
    "              \"Tau_model\":prediction.numpy(), \n",
    "              \"Tau_FDNS\":true.numpy(),\n",
    "              \"UV\": inputs.numpy(),\n",
    "              \"weights\":weights,\n",
    "              \"train_loss\":loss_epoch,\n",
    "              \"test_loss\":loss_test_epoch,\n",
    "              \"cc\":cc_epoch,\n",
    "              \"ccs\": ccs,\n",
    "             }\n",
    "\n",
    "    filename = \"Data.mat\"\n",
    "    savemat(filename, output)"
   ]
  },
  {
   "cell_type": "code",
   "execution_count": 9,
   "metadata": {},
   "outputs": [
    {
     "data": {
      "image/png": "[encoded data removed]",
      "text/plain": [
       "<Figure size 640x480 with 1 Axes>"
      ]
     },
     "metadata": {},
     "output_type": "display_data"
    }
   ],
   "source": [
    "import numpy as np\n",
    "import matplotlib.pyplot as plt\n",
    "from matplotlib.font_manager import FontProperties\n",
    "import h5py\n",
    "from matplotlib.ticker import MaxNLocator\n",
    "\n",
    "# with h5py.File('/media/volume/sdc/exouser/cnn/development/Data.mat','r',libver='latest') as f:\n",
    "#     epoch = f['epoch'][:]\n",
    "\n",
    "train_loss  =  np.random.rand(5)\n",
    "test_loss = np.random.rand(5)\n",
    "# Plotting the loss\n",
    "\n",
    "def plot_loss(train_loss, test_loss, save_fig=False, fig_name=None):\n",
    "    \n",
    "    epoch = np.arange(1, len(train_loss)+1)\n",
    "    \n",
    "    # Create a figure\n",
    "    fig, axs = plt.subplots()\n",
    "\n",
    "    # Create line plots for the two data arrays\n",
    "    axs.plot(epoch, train_loss, label='Train Loss', linewidth=2, color='red')\n",
    "    axs.plot(epoch, test_loss, label='Test Loss', linewidth=2, color='blue')    \n",
    "\n",
    "    # Update the font size for axis labels and title\n",
    "    font_size = 14\n",
    "    font = 'Times New Roman'\n",
    "    plt.rcParams['axes.labelsize'] = font_size\n",
    "    plt.rcParams['axes.titlesize'] = font_size\n",
    "    plt.rcParams['font.family'] = font\n",
    "    plt.rcParams[\"text.usetex\"] = True\n",
    "\n",
    "\n",
    "    # Create scatter plots for the two data arrays\n",
    "    point_size = 5\n",
    "    axs.scatter(epoch, train_loss, color='red', marker='o', s=point_size)\n",
    "    axs.scatter(epoch, test_loss, color='blue', marker='o', s=point_size)\n",
    "\n",
    "    # Set titles and axis labels for the subplots\n",
    "    axs.set_title(\"Training Loss vs. Test Loss\")\n",
    "    axs.set_xlabel(\"Epoch\")\n",
    "    axs.set_ylabel(\"Loss\")\n",
    "\n",
    "    # Set the x and y axis limits\n",
    "    xmin, xmax = 1, len(epoch)\n",
    "    ymin, ymax = min(train_loss) or min(test_loss), max(train_loss) or max(test_loss)\n",
    "    axs.set_xlim(xmin, xmax)\n",
    "    axs.set_ylim(ymin, ymax)\n",
    "    axs.xaxis.set_major_locator(MaxNLocator(integer=True))\n",
    "\n",
    "    # Set equal aspect ratio for the subplots\n",
    "    axs.set_aspect('auto')\n",
    "\n",
    "    # Set alpha value of the face color to 0\n",
    "    axs.set_facecolor((0, 0, 0, 0))\n",
    "\n",
    "    # Show the legend\n",
    "    axs.legend(frameon=False)\n",
    "\n",
    "    if save_fig:\n",
    "        if fig_name is None:\n",
    "            fig_name = \"loss.pdf\"\n",
    "        plt.savefig(fig_name, format=\"pdf\")\n",
    "    # Show the plot\n",
    "    plt.show()\n",
    "    \n",
    "plot_loss(train_loss, test_loss, save_fig=True, fig_name=\"loss.pdf\")\n"
   ]
  },
  {
   "cell_type": "code",
   "execution_count": 7,
   "metadata": {},
   "outputs": [
    {
     "data": {
      "text/plain": [
       "array([  1,   2,   3,   4,   5,   6,   7,   8,   9,  10,  11,  12,  13,\n",
       "        14,  15,  16,  17,  18,  19,  20,  21,  22,  23,  24,  25,  26,\n",
       "        27,  28,  29,  30,  31,  32,  33,  34,  35,  36,  37,  38,  39,\n",
       "        40,  41,  42,  43,  44,  45,  46,  47,  48,  49,  50,  51,  52,\n",
       "        53,  54,  55,  56,  57,  58,  59,  60,  61,  62,  63,  64,  65,\n",
       "        66,  67,  68,  69,  70,  71,  72,  73,  74,  75,  76,  77,  78,\n",
       "        79,  80,  81,  82,  83,  84,  85,  86,  87,  88,  89,  90,  91,\n",
       "        92,  93,  94,  95,  96,  97,  98,  99, 100])"
      ]
     },
     "execution_count": 7,
     "metadata": {},
     "output_type": "execute_result"
    }
   ],
   "source": [
    "# train_loss  = np.random.uniform(0, 5, 100)\n",
    "# train_loss  = np.random.uniform(0, 3, 100)\n",
    "\n",
    "# plot_epoch(train_loss, test_loss)\n",
    "\n",
    "epoch = np.arange(1, len(test_loss)+1)\n",
    "epoch"
   ]
  }
 ],
 "metadata": {
  "kernelspec": {
   "display_name": "torch_gpu",
   "language": "python",
   "name": "python3"
  },
  "language_info": {
   "codemirror_mode": {
    "name": "ipython",
    "version": 3
   },
   "file_extension": ".py",
   "mimetype": "text/x-python",
   "name": "python",
   "nbconvert_exporter": "python",
   "pygments_lexer": "ipython3",
   "version": "3.10.6"
  },
  "orig_nbformat": 4
 },
 "nbformat": 4,
 "nbformat_minor": 2
}
